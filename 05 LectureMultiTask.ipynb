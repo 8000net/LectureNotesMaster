{
 "cells": [
  {
   "cell_type": "markdown",
   "metadata": {},
   "source": [
    "# Multi-modal and Multi-Task Learning (MTL) Overview  "
   ]
  },
  {
   "cell_type": "markdown",
   "metadata": {},
   "source": [
    "## To do\n",
    "Explain evaluation process, Bland Altman (Mostly done)\n",
    "\n",
    "Section of visualization and the history of applications (In progress)\n",
    "\n",
    "Theory, very technical, why does it prevent overfitting & regularization (Very sparse)\n",
    "\n",
    "Separate Loss Function, talk about it?\n",
    "\n",
    "Transfer Learning - Relate History"
   ]
  },
  {
   "cell_type": "markdown",
   "metadata": {},
   "source": [
    "# Why Multi Task\n",
    "Multi task learning helps in scenarios where there is a lot of general data, but very limited data for each class.\n",
    "The example used in this notebook is predicting student test scores.\n",
    "There are many students across the country and the data from each of them can be used to train a shared model.\n",
    "\n",
    "However, only a handful of samples (~150) are available for each school.\n",
    "Each school has distinct behavior in students that influences which factors are strong predictors of test scores.\n",
    "By treating all students as part of the sam data set, we make it difficult for the model to adjust itself to the nuances of each school.\n",
    "\n",
    "We can combat this by creating an artificial partition in the dataset on the school and giving each school a specific part of the model.\n",
    "Situations such as these are where multi task learning is useful."
   ]
  },
  {
   "cell_type": "markdown",
   "metadata": {},
   "source": [
    "# Preface\n",
    "\n",
    "##### A Common Source of Confusion\n",
    "\n",
    "To aid in processing mutli-task learning for the first time it is helpful to reiterate the distinction between targets and tasks.\n",
    "These two are *not* the same.\n",
    "When switching from a traditional ML model to a multi-task model, it is still important to note that the target of the model is still to predict test scores.\n",
    "The tasks are not pieces of output, but categories of data.\n",
    "\n",
    "In summary: \n",
    "- Task: a breakpoint in the dataset that could be helpful to impart on the model before beginning training\n",
    "- Target: the attribute the model is attempting to predict (same as traditional ML)"
   ]
  },
  {
   "cell_type": "markdown",
   "metadata": {},
   "source": [
    "# MTL Summary\n",
    "In Machine Learning, our traditional goal is to optimize for a specific target. \n",
    "We do this by training a model and refining it until the performance improvement flatlines. \n",
    "All of the data is processed in the same way.\n",
    "By treating all the data as identical, we tend to leave out other pieces of potentially valuable information that could improve our score. \n",
    "In order to fix this, we present a Multi-Task Learning (MTL) approach.\n",
    "\n",
    "MTL has been succesfully implemented and achieved increasingly better results than its single-task rival. Ranging from applications such as natural language processing (Collobert and Watson, 2008) to drug discovery (Ramsundar, et al., 2015), it has been shown to optimize most architectures if the dataset fits the situation. Although it is also known as joint learning, typically as soon as you start optimizing more than one loss function concurrently, you are considering to be multi-tasking. To give a more concise definition:\n",
    "\n",
    "“MTL improves generalization by leveraging the domain-specific information contained in the training signals of related tasks\". - [Caruana, 1998]\n",
    "\n",
    "<img src=\"images/multi-task-graph.png\" width=\"400\">\n",
    "\n",
    "An advantage to this type of model, is that while some of the hidden layers are shared among the data, they each have their own individual output layers, which greatly reduces the risk of overfitting. This is due to the model having a lot more data to learn from than it normally would.\n",
    "\n",
    "By presenting a model with similar data but different goals, such as predicting scores of different schools around a country, we can make our overall performance better for our original task. Due to the split of data needed to train a multi-task model, one typically needs a very large, complete, and even dataset to train/test with."
   ]
  },
  {
   "cell_type": "markdown",
   "metadata": {},
   "source": [
    "## Multi Task Applications\n",
    "\n",
    "In terms of specific applications, we will go down a history and talk about the ones we mentioned before:\n",
    "\n",
    "NLP - Collobert and Watson 2008\n",
    "Speech Recognition - Deng et al., 2013\n",
    "Computer Vision - Girshick, 2015\n",
    "Drug Discovery - Ramsundar et al., 2015 \n",
    "\n",
    "https://arxiv.org/pdf/1707.08114.pdf\n",
    "https://arxiv.org/pdf/1707.08114.pdf\n",
    "\n",
    "\n",
    "\n",
    "\n"
   ]
  },
  {
   "cell_type": "markdown",
   "metadata": {},
   "source": [
    "## So why does MTL work?\n",
    "\n",
    "### Implicit data augmentation\n",
    "By having more than one task to train a model with, we passively acquire more data that has different noise patterns. For example, instead of overfitting on a single task A, we are able to learn with similar yet fundamentaly different task B, thus creating a more diverse and general representation.\n",
    "\n",
    "### Attention focusing\n",
    "If a task has a high amount of noise or the data is insufficient, a model can have issues solving which features are more relevent that others. However, with an MTL approach, features become easier to differentiate in terms of importance as the multitude of tasks will increase the amount of data available to test on.\n",
    "\n",
    "### Eavesdropping\n",
    "Similar to how some people are better at different individual tasks, so are models. Due to MTL, different models are able to \"eavesdrop\" on each other with shared layer, and spread the benefits of each to one another.\n",
    "\n",
    "### Representation bias\n",
    "MTL tends to prefer representations that the other tasks also focus on. This way, the model is better at generalizing new added tasks in the future and perform well on them if they are part of the same enviroment.\n",
    "\n",
    "### Regularization\n",
    "MTL acts as a passive regularizer by having an inductive bias (set of assumptions the learner uses to predict outputs), thus reducing the potential for overfitting and the overall Rademacher complexity of the model (the ability of it to fit random noise).\n"
   ]
  },
  {
   "cell_type": "markdown",
   "metadata": {},
   "source": [
    "## Evaluation Success: Bland-Altman plots\n",
    "In order to evauluate our results, we will be using a Bland-Altman (Tukey mean-difference plot) graph to measure the agreeableness between the actual target values and our predicted target values. \n",
    "\n",
    "<img src=\"images/bland-altman.png\" width=\"600\">\n",
    "\n",
    "Given two sets of data of n samples each, you plot them on a graph with the following equation:\n",
    "\n",
    "$$S(x, y) = ( \\dfrac{S_1 + S_2}{2} , S_1 - S_2 )$$\n",
    "\n",
    "Your x-axis will be the mean of the numbers, and the y-axis will be the difference. The three lines on the graph represent the the mean +/- 2 Standard Deviations, creating a 95% confidence interval centered around our mean error.\n",
    "\n",
    "The reason this graph is useful is because it helps mitigate errors from concluding that two pieces of data correlate with each other based solely on the correlation coefficient (least square fitting). Back in 1986, Bland and Altman showed that two sets of data can have a high correlation but not be in agreement at all. Plotting the data as a function of the mean vs the difference has proven a more accurate way to determine if two sets of data agree with each other, not just correlate. "
   ]
  },
  {
   "cell_type": "markdown",
   "metadata": {},
   "source": [
    "# School Data\n",
    "\n",
    "## School Data Understanding\n",
    "\n",
    "We will be using a UK school dataset comprised of 140 different school locations with a total of 15,000 students. Each student has 28 different features, each representing a demographic aspect (gender, age, etc).\n",
    "\n",
    "To give a more detailed explanation of the data, this was taken from the data source itself:\n",
    "\n",
    "Column    Description              Coding\n",
    "\n",
    "     1         Year                     1985=1; 1986=2; 1987=3\n",
    "\n",
    "     2-4       School                   Codes 1-139\n",
    "\n",
    "     5-6       Exam Score               Numeric score\n",
    "\n",
    "     7-8       % FSM                    Percent. students eligible for free\n",
    "                                        school meals\n",
    "\n",
    "     9-10      % VR1 band               Percent. students in school in VR band\n",
    "                                        1\n",
    "\n",
    "     11        Gender                   Male=0; Female=1\n",
    "\n",
    "     12        VR band of student       VR1=2; VR2=3; VR3=1\n",
    "\n",
    "     13-14     Ethnic group of          ESWI=1*; African=2; Arab=3;\n",
    "               student                  Bangladeshi=4; Caribbean=5;\n",
    "                                        Greek=6;Indian=7;Pakistani=8;\n",
    "                                        S.E.Asian=9;Turkish=10; Other=11\n",
    "\n",
    "                                        Mixed=1; Male=2; Female=3\n",
    "     15        School gender\n",
    "                                        Maintained=1; Church of\n",
    "     16        School denomination      England=2; Roman Catholic=3\n",
    "\n",
    "Originally there were only 16 features, but the categorical ones were replace with a binary feature for each possible value. In total, there were 27 plus the bias term. Each school is treated as an individual task and the exam score is the target.\n",
    "\n",
    "In this notebooke will be exploring three different ways to create a classifier and compare their performances.\n",
    "In the next few sections, we will be showing three different methods of completing the task on this data: 1) running each school through its own model, 2) running all the schools together into one model, 3) using a Multi-Task approach and having some of the layers shared by each school, and some individual.\n",
    "\n",
    "## School Data Processing\n",
    "\n",
    "Unfortunately this is an extremely messy dataset so we have quite a bit of preprocessing that we will need to perform."
   ]
  },
  {
   "cell_type": "code",
   "execution_count": 1,
   "metadata": {
    "collapsed": true,
    "deletable": false,
    "editable": false
   },
   "outputs": [],
   "source": [
    "%matplotlib inline\n",
    "import scipy.io\n",
    "from sklearn.datasets.base import Bunch\n",
    "from matplotlib import pyplot as plt\n",
    "import numpy as np\n",
    "from sklearn.model_selection import train_test_split\n",
    "\n",
    "# load the data for each individual school\n",
    "school_indices = [scipy.io.loadmat('data/school_splits/school_%d_indexes.mat' % (x)) for x in range(1, 11)]\n",
    "raw_data = scipy.io.loadmat('data/school_splits/school_b.mat')"
   ]
  },
  {
   "cell_type": "code",
   "execution_count": 2,
   "metadata": {
    "deletable": false,
    "editable": false
   },
   "outputs": [
    {
     "name": "stdout",
     "output_type": "stream",
     "text": [
      "We have an input array of shape: (15362, 28)\n",
      "We have an output array of shape: (15362, 1)\n"
     ]
    }
   ],
   "source": [
    "# changed data to float because yhat will be floats\n",
    "X = np.array(raw_data['x'].T)\n",
    "y = np.array(raw_data['y'])\n",
    "print(\"We have an input array of shape:\", X.shape)\n",
    "print(\"We have an output array of shape:\", y.shape)"
   ]
  },
  {
   "cell_type": "code",
   "execution_count": 3,
   "metadata": {
    "collapsed": true,
    "deletable": false,
    "editable": false
   },
   "outputs": [],
   "source": [
    "# Matlab - arrays are indexed at 1, needs adapting\n",
    "start_index = np.ravel(raw_data[\"task_indexes\"] - 1)"
   ]
  },
  {
   "cell_type": "code",
   "execution_count": 4,
   "metadata": {
    "collapsed": true,
    "deletable": false,
    "editable": false
   },
   "outputs": [],
   "source": [
    "tasks = []\n",
    "for i in range(len(start_index)):\n",
    "    start = start_index[i]\n",
    "    if i == len(start_index) - 1:\n",
    "        end = -1\n",
    "    else:\n",
    "        end = start_index[i + 1]\n",
    "    descr = \"School data: school {}\".format(i + 1)\n",
    "    id = \"School {}\".format(i + 1)\n",
    "    tasks.append(Bunch(data=X[start:end],\n",
    "                       target=y[start:end],\n",
    "                       DESCR=descr,\n",
    "                       ID=id))"
   ]
  },
  {
   "cell_type": "code",
   "execution_count": 5,
   "metadata": {
    "collapsed": true,
    "deletable": false,
    "editable": false
   },
   "outputs": [],
   "source": [
    "import matplotlib.pyplot as plt\n",
    "import numpy as np\n",
    "\n",
    "def bland_altman_plot(data1, data2, std1, std2, *args, **kwargs):\n",
    "    data1     = np.asarray(data1)\n",
    "    data2     = np.asarray(data2)\n",
    "    mean      = np.mean([data1, data2], axis=0)\n",
    "    diff      = data1 - data2                   # Difference between data1 and data2\n",
    "    md        = np.mean(diff)                   # Mean of the difference\n",
    "    sd        = np.std(diff, axis=0)            # Standard deviation of the difference\n",
    "    std1      = np.asarray(std1)\n",
    "    std2      = np.asarray(std2)\n",
    "\n",
    "    plt.scatter(mean, diff, s=10+(std1 * std2), *args, **kwargs)\n",
    "    plt.axhline(md,           color='gray', linestyle='--')\n",
    "    plt.axhline(md + 1.96*sd, color='gray', linestyle='--')\n",
    "    plt.axhline(md - 1.96*sd, color='gray', linestyle='--')"
   ]
  },
  {
   "cell_type": "markdown",
   "metadata": {
    "deletable": false,
    "editable": false
   },
   "source": [
    "## Independent School Models\n",
    "\n",
    "First, let's train each school on its own individual model.\n",
    "Each of the 141 models will only have an average of 107.4 data points between both train and test data."
   ]
  },
  {
   "cell_type": "code",
   "execution_count": 6,
   "metadata": {
    "deletable": false,
    "editable": false
   },
   "outputs": [
    {
     "name": "stderr",
     "output_type": "stream",
     "text": [
      "/Users/yeti/anaconda3/lib/python3.6/site-packages/h5py/__init__.py:34: FutureWarning: Conversion of the second argument of issubdtype from `float` to `np.floating` is deprecated. In future, it will be treated as `np.float64 == np.dtype(float).type`.\n",
      "  from ._conv import register_converters as _register_converters\n",
      "Using TensorFlow backend.\n"
     ]
    }
   ],
   "source": [
    "import keras\n",
    "from keras.models import Sequential\n",
    "from keras.layers import Reshape\n",
    "from keras.layers import Dense, Dropout, Activation, Flatten"
   ]
  },
  {
   "cell_type": "code",
   "execution_count": 7,
   "metadata": {
    "collapsed": true,
    "deletable": false,
    "editable": false
   },
   "outputs": [],
   "source": [
    "models_ind = []\n",
    "test_daters_ind = []\n",
    "for x in tasks:\n",
    "    #X_train = x.data\n",
    "    #y_train = x.target\n",
    "    X_train, X_test, y_train, y_test = train_test_split(x.data, x.target, test_size=0.2, random_state=42)\n",
    "\n",
    "    mlp = Sequential()\n",
    "    mlp.add(Dense(input_dim=X_train.shape[1], units=30, activation='relu'))\n",
    "    mlp.add( Dense(units=15, activation='relu') )\n",
    "    mlp.add(Dense(1))\n",
    "\n",
    "    mlp.compile(loss='mean_squared_error',\n",
    "                optimizer='rmsprop',\n",
    "                metrics=[])\n",
    "    \n",
    "    mlp.fit(X_train, y_train, epochs=20, shuffle=True, verbose=0)\n",
    "    models_ind.append(mlp)\n",
    "    test_daters_ind.append([X_test, y_test])"
   ]
  },
  {
   "cell_type": "code",
   "execution_count": 8,
   "metadata": {
    "collapsed": true,
    "deletable": false,
    "editable": false
   },
   "outputs": [],
   "source": [
    "import seaborn as sns\n",
    "from sklearn.metrics import mean_squared_error, accuracy_score, precision_score, mean_squared_log_error"
   ]
  },
  {
   "cell_type": "code",
   "execution_count": 9,
   "metadata": {
    "collapsed": true,
    "deletable": false,
    "editable": false,
    "scrolled": true
   },
   "outputs": [],
   "source": [
    "y_ind=[]\n",
    "y_ind_std=[]\n",
    "yhat_ind=[]\n",
    "yhat_ind_std=[]\n",
    "mses=[]\n",
    "\n",
    "for t, mlp in zip(test_daters_ind, models_ind):\n",
    "    X_test, y_test = t\n",
    "\n",
    "    yhat_mlp = mlp.predict(X_test)\n",
    "    yhat_rounded = np.around(yhat_mlp)\n",
    "    \n",
    "    y_test_plot = y_test.ravel()\n",
    "    yhat_mlp_plot = yhat_mlp.ravel()\n",
    "    \n",
    "    y_ind.append(np.mean(y_test_plot))\n",
    "    y_ind_std.append(np.std(y_test_plot))\n",
    "    yhat_ind.append(np.mean(yhat_mlp_plot))\n",
    "    yhat_ind_std.append(np.std(yhat_mlp_plot))\n",
    "\n",
    "    mse = mean_squared_error(y_test, yhat_mlp)\n",
    "    mses.append(mse)"
   ]
  },
  {
   "cell_type": "code",
   "execution_count": 10,
   "metadata": {
    "deletable": false,
    "editable": false
   },
   "outputs": [
    {
     "data": {
      "image/png": "[encoded data removed]",
      "text/plain": [
       "<matplotlib.figure.Figure at 0x13ccb8e10>"
      ]
     },
     "metadata": {},
     "output_type": "display_data"
    }
   ],
   "source": [
    "plt.figure(figsize=(15,10))\n",
    "bland_altman_plot(y_ind, yhat_ind, y_ind_std, yhat_ind_std)\n",
    "plt.title('Bland-Altman Test Scores')\n",
    "plt.xlabel('Mean Score', fontsize=8)\n",
    "plt.ylabel('Diff Score', fontsize=8)\n",
    "plt.show()\n"
   ]
  },
  {
   "cell_type": "markdown",
   "metadata": {},
   "source": [
    "This graph is a Bland Altman plot, indended to show the relationship between two sets of values by plotting the difference between them on the y-axis and the average of them on the x-axis. This way, you can see the residual difference between our predictions and the actual numbers. \n",
    "   \n",
    "Each dot size represents its group standard deviation, the larger it is, the larger the STD is. In addition, each dot represents a different school, with each point being the average of all the points for that category.  "
   ]
  },
  {
   "cell_type": "code",
   "execution_count": 11,
   "metadata": {
    "deletable": false,
    "editable": false
   },
   "outputs": [
    {
     "name": "stdout",
     "output_type": "stream",
     "text": [
      "Average of Mean Squared Error:  202.08546447753906\n"
     ]
    }
   ],
   "source": [
    "avg = float(np.mean(mses))\n",
    "print (\"Average of Mean Squared Error: \", avg)"
   ]
  },
  {
   "cell_type": "markdown",
   "metadata": {},
   "source": [
    "By using Avg Mean Square Error, we can see how close we are to the line of best fit. Based on the graph, we can already tell we are not close."
   ]
  },
  {
   "cell_type": "markdown",
   "metadata": {},
   "source": [
    "## General School Model\n",
    "\n",
    "Let's see if using a single model for all the schools increases our accuracy.  We will have one model with all 15000 training instances."
   ]
  },
  {
   "cell_type": "code",
   "execution_count": 12,
   "metadata": {
    "collapsed": true,
    "deletable": false,
    "editable": false
   },
   "outputs": [],
   "source": [
    "all_data = {\"data\": [], \"target\": [], \"data_test\": [], \"target_test\": []}\n",
    "for bunch in tasks:\n",
    "    x_temp, y_temp = [bunch.data, bunch.target]\n",
    "    X_train, X_test, y_train, y_test = train_test_split(x_temp, y_temp, test_size=0.2, random_state=42)\n",
    "    all_data[\"data\"].append(X_train)\n",
    "    all_data[\"target\"].append(y_train)        \n",
    "    all_data[\"data_test\"].append(X_test)\n",
    "    all_data[\"target_test\"].append(y_test)\n",
    "\n",
    "X_train = np.concatenate(all_data[\"data\"])\n",
    "y_train = np.concatenate(all_data[\"target\"])"
   ]
  },
  {
   "cell_type": "code",
   "execution_count": 13,
   "metadata": {
    "deletable": false,
    "editable": false
   },
   "outputs": [
    {
     "data": {
      "text/plain": [
       "<keras.callbacks.History at 0x13d50cc50>"
      ]
     },
     "execution_count": 13,
     "metadata": {},
     "output_type": "execute_result"
    }
   ],
   "source": [
    "generalized_mlp = Sequential()\n",
    "generalized_mlp.add(Dense(input_dim=X_train.shape[1], units=30, activation='relu'))\n",
    "generalized_mlp.add(Dense(units=15, activation='relu'))\n",
    "generalized_mlp.add(Dense(1))\n",
    "\n",
    "generalized_mlp.compile(loss='mean_squared_error',\n",
    "            optimizer='rmsprop',\n",
    "            metrics=[])\n",
    "\n",
    "generalized_mlp.fit(X_train, y_train, epochs=20, shuffle=True, verbose=0)"
   ]
  },
  {
   "cell_type": "code",
   "execution_count": 14,
   "metadata": {
    "collapsed": true,
    "deletable": false,
    "editable": false
   },
   "outputs": [],
   "source": [
    "y_general=[]\n",
    "y_general_std=[]\n",
    "yhat_general=[]\n",
    "yhat_general_std=[]\n",
    "mses_general=[]\n",
    "\n",
    "for X_test, y_test in zip(all_data[\"data_test\"], all_data[\"target_test\"]):\n",
    "    yhat_mlp = generalized_mlp.predict(X_test)\n",
    "    yhat_rounded = np.around(yhat_mlp)\n",
    "    \n",
    "    y_test_plot = y_test.ravel()\n",
    "    yhat_mlp_plot = yhat_mlp.ravel()\n",
    "    \n",
    "    y_general.append(np.mean(y_test_plot))\n",
    "    y_general_std.append(np.std(y_test_plot))\n",
    "    yhat_general.append(np.mean(yhat_mlp_plot))\n",
    "    yhat_general_std.append(np.std(y_test_plot))\n",
    "    \n",
    "    mse = mean_squared_error(y_test, yhat_mlp)\n",
    "    mses_general.append(mse)"
   ]
  },
  {
   "cell_type": "code",
   "execution_count": 15,
   "metadata": {
    "deletable": false,
    "editable": false
   },
   "outputs": [
    {
     "data": {
      "image/png": "[encoded data removed]",
      "text/plain": [
       "<matplotlib.figure.Figure at 0x1406d3198>"
      ]
     },
     "metadata": {},
     "output_type": "display_data"
    }
   ],
   "source": [
    "plt.figure(figsize=(15,10))\n",
    "bland_altman_plot(y_general, yhat_general, y_general_std, yhat_general_std)\n",
    "plt.title('Bland-Altman Test Scores')\n",
    "plt.xlabel('Mean Score', fontsize=8)\n",
    "plt.ylabel('Diff Score', fontsize=8)\n",
    "plt.show()"
   ]
  },
  {
   "cell_type": "code",
   "execution_count": 16,
   "metadata": {
    "deletable": false,
    "editable": false
   },
   "outputs": [
    {
     "name": "stdout",
     "output_type": "stream",
     "text": [
      "Average of Mean Squared Error:  107.19197845458984\n"
     ]
    }
   ],
   "source": [
    "avg = float(np.mean(mses_general))\n",
    "print (\"Average of Mean Squared Error: \", avg)"
   ]
  },
  {
   "cell_type": "markdown",
   "metadata": {},
   "source": [
    "Our Avg Mean Squared Error is significantly better, clearly showing better results, although we still have an issue of underpredicting at higher test scores."
   ]
  },
  {
   "cell_type": "markdown",
   "metadata": {},
   "source": [
    "## School Multi-Task Model\n",
    "\n",
    "### mean_squared_error"
   ]
  },
  {
   "cell_type": "code",
   "execution_count": 17,
   "metadata": {
    "collapsed": true,
    "deletable": false,
    "editable": false
   },
   "outputs": [],
   "source": [
    "from keras.layers import Input, Dense\n",
    "from keras.models import Model\n",
    "\n",
    "inputs = Input(shape=(X[0].shape[0],))\n",
    "shared_mlp = Dense(64, activation='relu')(inputs)\n",
    "shared_mlp = Dense(64, activation='relu')(shared_mlp)\n",
    "\n",
    "models_mtl = []\n",
    "\n",
    "for _ in range(len(tasks)):\n",
    "    personal_layer = Dense(10, activation='relu')(shared_mlp)\n",
    "    output_layer = Dense(1)(personal_layer)\n",
    "    model = Model(inputs=inputs, outputs=output_layer)\n",
    "    model.compile(optimizer='rmsprop', loss='mean_squared_error')\n",
    "    models_mtl.append(model)"
   ]
  },
  {
   "cell_type": "code",
   "execution_count": 18,
   "metadata": {
    "collapsed": true,
    "deletable": false,
    "editable": false
   },
   "outputs": [],
   "source": [
    "all_data = []\n",
    "all_test = []\n",
    "\n",
    "weights = {}\n",
    "for bunch in tasks:\n",
    "    ID = int(bunch.ID.split(\" \")[-1]) - 1\n",
    "    X_train, X_test, y_train, y_test = train_test_split(bunch.data, bunch.target, test_size=0.4, random_state=42)\n",
    "    for row, target in zip(X_train, y_train):\n",
    "        instance = {}\n",
    "        instance[\"data\"] = row.reshape((1, 28))\n",
    "        instance[\"school\"] = ID\n",
    "        instance[\"target\"] = target\n",
    "        all_data.append(instance)\n",
    "        \n",
    "    for row, target in zip(X_test, y_test):\n",
    "        instance = {}\n",
    "        instance[\"data\"] = row.reshape((1, 28))\n",
    "        instance[\"school\"] = ID\n",
    "        instance[\"target\"] = target\n",
    "        all_test.append(instance)"
   ]
  },
  {
   "cell_type": "markdown",
   "metadata": {},
   "source": [
    "After separating the data correctly, shuffle it all back together and run it through 20 epochs on the shared model."
   ]
  },
  {
   "cell_type": "code",
   "execution_count": null,
   "metadata": {
    "collapsed": true,
    "deletable": false,
    "editable": false
   },
   "outputs": [],
   "source": [
    "import random\n",
    "random.shuffle(all_data)"
   ]
  },
  {
   "cell_type": "code",
   "execution_count": null,
   "metadata": {
    "collapsed": true,
    "deletable": false,
    "editable": false
   },
   "outputs": [],
   "source": [
    "EPOCHS = 10\n",
    "for _underscore in range(10):\n",
    "    for instance in all_data:\n",
    "        models_mtl[instance[\"school\"]].train_on_batch(instance[\"data\"], instance[\"target\"])"
   ]
  },
  {
   "cell_type": "code",
   "execution_count": null,
   "metadata": {
    "collapsed": true,
    "deletable": false,
    "editable": false
   },
   "outputs": [],
   "source": [
    "school_y = [ [] for x in range(139)]\n",
    "school_yhat = [ [] for x in range(139)]\n",
    "\n",
    "for test in all_test:\n",
    "    X_test = test[\"data\"]\n",
    "    y_test = test[\"target\"]\n",
    "    \n",
    "    mlp = models_mtl[test[\"school\"]]\n",
    "    \n",
    "    yhat_mlp = mlp.predict(X_test)\n",
    "    yhat_rounded = np.around(yhat_mlp)\n",
    "    \n",
    "    y_test_plot = y_test.ravel()\n",
    "    yhat_mlp_plot = yhat_mlp.ravel()\n",
    "\n",
    "    school_y[test[\"school\"]].append(y_test_plot)\n",
    "    school_yhat[test[\"school\"]].append(yhat_mlp_plot)"
   ]
  },
  {
   "cell_type": "code",
   "execution_count": null,
   "metadata": {
    "collapsed": true,
    "deletable": false,
    "editable": false
   },
   "outputs": [],
   "source": [
    "y_mtl=[]\n",
    "y_mtl_std=[]\n",
    "yhat_mtl=[]\n",
    "yhat_mtl_std=[]\n",
    "mses_mtl=[]\n",
    "\n",
    "plt.figure(figsize=(15,10))\n",
    "\n",
    "for x, y in zip(school_y, school_yhat):\n",
    "    y_mtl.append(np.mean(x))\n",
    "    y_mtl_std.append(np.std(x))\n",
    "    yhat_mtl.append(np.mean(y))\n",
    "    yhat_mtl_std.append(np.std(y))\n",
    "    \n",
    "    mse = mean_squared_error(x, y)\n",
    "    mses_mtl.append(mse)\n",
    "    \n",
    "bland_altman_plot(y_mtl, yhat_mtl, y_mtl_std, yhat_mtl_std)\n",
    "plt.title('Bland-Altman Test Scores')\n",
    "plt.xlabel('Mean Score', fontsize=8)\n",
    "plt.ylabel('Diff Score', fontsize=8)\n",
    "plt.show()"
   ]
  },
  {
   "cell_type": "code",
   "execution_count": null,
   "metadata": {
    "collapsed": true,
    "deletable": false,
    "editable": false
   },
   "outputs": [],
   "source": [
    "avg = float(np.mean(mses_mtl))\n",
    "print (\"Average of Mean Squared Error: \", avg)"
   ]
  },
  {
   "cell_type": "markdown",
   "metadata": {},
   "source": [
    "### mean_absolute_error"
   ]
  },
  {
   "cell_type": "code",
   "execution_count": null,
   "metadata": {
    "collapsed": true,
    "deletable": false,
    "editable": false
   },
   "outputs": [],
   "source": [
    "from sklearn.metrics import mean_absolute_error\n",
    "\n",
    "inputs = Input(shape=(X[0].shape[0],))\n",
    "shared_mlp = Dense(64, activation='relu')(inputs)\n",
    "shared_mlp = Dense(64, activation='relu')(shared_mlp)\n",
    "\n",
    "models_mtl = []\n",
    "\n",
    "for _ in range(len(tasks)):\n",
    "    personal_layer = Dense(10, activation='relu')(shared_mlp)\n",
    "    output_layer = Dense(1)(personal_layer)\n",
    "    model = Model(inputs=inputs, outputs=output_layer)\n",
    "    model.compile(optimizer='rmsprop', loss='mean_absolute_error')\n",
    "    models_mtl.append(model)"
   ]
  },
  {
   "cell_type": "code",
   "execution_count": null,
   "metadata": {
    "collapsed": true,
    "deletable": false,
    "editable": false
   },
   "outputs": [],
   "source": [
    "all_data = []\n",
    "all_test = []\n",
    "\n",
    "weights = {}\n",
    "for bunch in tasks:\n",
    "    ID = int(bunch.ID.split(\" \")[-1]) - 1\n",
    "    X_train, X_test, y_train, y_test = train_test_split(bunch.data, bunch.target, test_size=0.4, random_state=42)\n",
    "    for row, target in zip(X_train, y_train):\n",
    "        instance = {}\n",
    "        instance[\"data\"] = row.reshape((1, 28))\n",
    "        instance[\"school\"] = ID\n",
    "        instance[\"target\"] = target\n",
    "        all_data.append(instance)\n",
    "        \n",
    "    for row, target in zip(X_test, y_test):\n",
    "        instance = {}\n",
    "        instance[\"data\"] = row.reshape((1, 28))\n",
    "        instance[\"school\"] = ID\n",
    "        instance[\"target\"] = target\n",
    "        all_test.append(instance)"
   ]
  },
  {
   "cell_type": "code",
   "execution_count": null,
   "metadata": {
    "collapsed": true,
    "deletable": false,
    "editable": false
   },
   "outputs": [],
   "source": [
    "import random\n",
    "random.shuffle(all_data)"
   ]
  },
  {
   "cell_type": "code",
   "execution_count": null,
   "metadata": {
    "collapsed": true,
    "deletable": false,
    "editable": false
   },
   "outputs": [],
   "source": [
    "EPOCHS = 10\n",
    "for _underscore in range(10):\n",
    "    for instance in all_data:\n",
    "        models_mtl[instance[\"school\"]].train_on_batch(instance[\"data\"], instance[\"target\"])"
   ]
  },
  {
   "cell_type": "code",
   "execution_count": null,
   "metadata": {
    "collapsed": true,
    "deletable": false,
    "editable": false
   },
   "outputs": [],
   "source": [
    "school_ya = [ [] for x in range(139)]\n",
    "school_yhata = [ [] for x in range(139)]\n",
    "\n",
    "for test in all_test:\n",
    "    X_test = test[\"data\"]\n",
    "    y_test = test[\"target\"]\n",
    "    \n",
    "    mlp = models_mtl[test[\"school\"]]\n",
    "    \n",
    "    yhat_mlp = mlp.predict(X_test)\n",
    "    yhat_rounded = np.around(yhat_mlp)\n",
    "    \n",
    "    y_test_plot = y_test.ravel()\n",
    "    yhat_mlp_plot = yhat_mlp.ravel()\n",
    "\n",
    "    school_ya[test[\"school\"]].append(y_test_plot)\n",
    "    school_yhata[test[\"school\"]].append(yhat_mlp_plot)"
   ]
  },
  {
   "cell_type": "code",
   "execution_count": null,
   "metadata": {
    "collapsed": true,
    "deletable": false,
    "editable": false
   },
   "outputs": [],
   "source": [
    "y_mtla=[]\n",
    "y_mtl_stda=[]\n",
    "yhat_mtla=[]\n",
    "yhat_mtl_stda=[]\n",
    "maes_mtl=[]\n",
    "\n",
    "plt.figure(figsize=(15,10))\n",
    "\n",
    "for x, y in zip(school_ya, school_yhata):\n",
    "    y_mtla.append(np.mean(x))\n",
    "    y_mtl_stda.append(np.std(x))\n",
    "    yhat_mtla.append(np.mean(y))\n",
    "    yhat_mtl_stda.append(np.std(y))\n",
    "    \n",
    "    mae = mean_absolute_error(x, y)\n",
    "    maes_mtl.append(mse)\n",
    "    \n",
    "bland_altman_plot(y_mtla, yhat_mtla, y_mtl_stda, yhat_mtl_stda)\n",
    "plt.title('Bland-Altman Test Scores')\n",
    "plt.xlabel('Mean Score', fontsize=8)\n",
    "plt.ylabel('Diff Score', fontsize=8)\n",
    "plt.show()"
   ]
  },
  {
   "cell_type": "code",
   "execution_count": null,
   "metadata": {
    "collapsed": true,
    "deletable": false,
    "editable": false
   },
   "outputs": [],
   "source": [
    "avg = float(np.mean(maes_mtl))\n",
    "print (\"Average of Mean Absolute Error: \", avg)"
   ]
  },
  {
   "cell_type": "markdown",
   "metadata": {},
   "source": [
    "So the results were a bit dissapointing. It turns out the General Model proved best for this problem, but that could be due to a variety of reasons, such as lack of data or a poorly built Multi-Task model. However, it should be noted that while the Avg Mean Squared Error is higher, the graph shows that the problem of overfitting to low test scores is less in the Multi-Task Model than the other previous two. So while it did score a higher error value, it did prove better on solving the overfitting problem.\n",
    "\n",
    "Now we will move on to an example that best shows how a Multi Task model can be extremely effective."
   ]
  },
  {
   "cell_type": "markdown",
   "metadata": {},
   "source": [
    "# Computer Survey Data\n",
    "\n",
    "### Computer Survey Data Understanding\n",
    "This data set was obtained on pmtkdata project's web site:\n",
    "    https://code.google.com/p/pmtkdata/.\n",
    "It was used by \"Argyriou, Evgeniou, Pontil - Convex multi-task feature learning - ML 2008\" and \"Kumar, Daume III - Learning Task Grouping and Overlap in Multi-Task Learning - ICML 2012\".\n",
    "\n",
    "The data set's properties are:\n",
    "   \n",
    "20 samples (all subjects have the same samples)\n",
    "13 features (describing computer's intrinsic (e.g. CPU speed, RAM) and extrinsic (e.g. Hot line support, Color of unit) features)\n",
    "regression task of predicting subject's likelihood of purchasing a personal computer\n",
    "   \n",
    "Each data point is 20 x 14, which is each of the computers for that respective student. The computers are the students and the students are the school while the ratings are the test scores and the comp specs are the demographs."
   ]
  },
  {
   "cell_type": "code",
   "execution_count": null,
   "metadata": {
    "collapsed": true,
    "deletable": false,
    "editable": false
   },
   "outputs": [],
   "source": [
    "%matplotlib inline\n",
    "import os.path\n",
    "import scipy.io\n",
    "from sklearn.datasets.base import Bunch\n",
    "from matplotlib import pyplot as plt\n",
    "import numpy as np\n",
    "from sklearn.model_selection import train_test_split\n",
    "\n",
    "def load_computer_survey_data():\n",
    "    \"\"\"\n",
    "    Returns\n",
    "    -------\n",
    "    tasks -- list\n",
    "        A list of Bunch objects that correspond to regression tasks, each task\n",
    "        corresponding to one subject.\n",
    "    \"\"\"\n",
    "    \n",
    "    #matlab_file = os.path.join(\"data/data/computer/conjointAnalysisComputerBuyers.mat\")\n",
    "    mat = scipy.io.loadmat(\"data/computer_survey/conjointAnalysisComputerBuyers.mat\")\n",
    "    # feature names are taken from the ComputerSurveyFull.xls file, Sheet named\n",
    "    # Design Matrix\n",
    "    feature_names = [\"cnst\", \"Hot line\", \"RAM\", \"Screen size\", \"CPU speed\",\n",
    "                     \"Hard disk\", \"CD ROM\", \"Cache\", \"Color of unit\",\n",
    "                     \"Availability\", \"Warranty\", \"Software\", \"Guarantee\",\n",
    "                     \"Price\"]\n",
    "    # extract X and combined y data\n",
    "    X = mat[\"designMarix\"].astype(\"float\")\n",
    "    y_combined = mat[\"likeBuy\"].astype(\"float\")\n",
    "    # create a task for each subject\n",
    "    tasks = []\n",
    "    for subject in range(len(y_combined)):\n",
    "        descr = \"Computer Survey data: Subject {}\".format(subject)\n",
    "        id = \"Subject {}\".format(subject)\n",
    "        y = np.array(y_combined[subject], copy=True)\n",
    "        tasks.append(Bunch(data=X,\n",
    "                           target=y.reshape(20, 1),\n",
    "                           feature_names=feature_names,\n",
    "                           DESCR=descr,\n",
    "                           ID=id))\n",
    "    return tasks"
   ]
  },
  {
   "cell_type": "code",
   "execution_count": null,
   "metadata": {
    "collapsed": true,
    "deletable": false,
    "editable": false
   },
   "outputs": [],
   "source": [
    "comp_tasks = load_computer_survey_data()"
   ]
  },
  {
   "cell_type": "markdown",
   "metadata": {
    "deletable": false,
    "editable": false
   },
   "source": [
    "## Individual Computer Model"
   ]
  },
  {
   "cell_type": "code",
   "execution_count": null,
   "metadata": {
    "collapsed": true,
    "deletable": false,
    "editable": false
   },
   "outputs": [],
   "source": [
    "import keras\n",
    "from keras.models import Sequential\n",
    "from keras.layers import Reshape\n",
    "from keras.layers import Dense, Dropout, Activation, Flatten\n",
    "from sklearn.metrics import mean_squared_error, accuracy_score, precision_score, mean_squared_log_error"
   ]
  },
  {
   "cell_type": "code",
   "execution_count": null,
   "metadata": {
    "collapsed": true,
    "deletable": false,
    "editable": false
   },
   "outputs": [],
   "source": [
    "modelsc_ind = []\n",
    "testc_daters_ind = []\n",
    "for x in comp_tasks:\n",
    "    X_train, X_test, y_train, y_test = train_test_split(x.data, x.target, test_size=0.25, random_state=42)\n",
    "\n",
    "    mlp = Sequential()\n",
    "    mlp.add(Dense(input_dim=X_train.shape[1], units=30, activation='relu'))\n",
    "    mlp.add( Dense(units=15, activation='relu') )\n",
    "    mlp.add(Dense(1))\n",
    "\n",
    "    mlp.compile(loss='mean_squared_error',\n",
    "                optimizer='rmsprop',\n",
    "                metrics=[])\n",
    "    \n",
    "    mlp.fit(X_train, y_train, epochs=10, shuffle=True, verbose=0)\n",
    "    modelsc_ind.append(mlp)\n",
    "    testc_daters_ind.append([X_test, y_test])"
   ]
  },
  {
   "cell_type": "code",
   "execution_count": null,
   "metadata": {
    "collapsed": true,
    "deletable": false,
    "editable": false
   },
   "outputs": [],
   "source": [
    "yc_ind=[]\n",
    "yc_ind_std=[]\n",
    "yhatc_ind=[]\n",
    "yhatc_ind_std=[]\n",
    "msesc=[]\n",
    "\n",
    "for t, mlp in zip(testc_daters_ind, modelsc_ind):\n",
    "    X_test, y_test = t\n",
    "\n",
    "    yhat_mlp = mlp.predict(X_test)\n",
    "    yhat_rounded = np.around(yhat_mlp)\n",
    "    \n",
    "    y_test_plot = y_test.ravel()\n",
    "    yhat_mlp_plot = yhat_mlp.ravel()\n",
    "    \n",
    "    yc_ind.append(np.mean(y_test_plot))\n",
    "    yc_ind_std.append(np.std(y_test_plot))\n",
    "    yhatc_ind.append(np.mean(yhat_mlp_plot))\n",
    "    yhatc_ind_std.append(np.std(yhat_mlp_plot))\n",
    "\n",
    "    mse = mean_squared_error(y_test, yhat_mlp)\n",
    "    msesc.append(mse)"
   ]
  },
  {
   "cell_type": "code",
   "execution_count": null,
   "metadata": {
    "collapsed": true,
    "deletable": false,
    "editable": false
   },
   "outputs": [],
   "source": [
    "plt.figure(figsize=(15,10))\n",
    "bland_altman_plot(yc_ind, yhatc_ind, yc_ind_std, yhatc_ind_std)\n",
    "plt.title('Bland-Altman Test Scores')\n",
    "plt.xlabel('Mean Score', fontsize=8)\n",
    "plt.ylabel('Diff Score', fontsize=8)\n",
    "plt.show()"
   ]
  },
  {
   "cell_type": "code",
   "execution_count": null,
   "metadata": {
    "collapsed": true,
    "deletable": false,
    "editable": false
   },
   "outputs": [],
   "source": [
    "avg = float(np.mean(msesc))\n",
    "print (\"Average of Mean Squared Error: \", avg)"
   ]
  },
  {
   "cell_type": "markdown",
   "metadata": {},
   "source": [
    "## General Computer Model"
   ]
  },
  {
   "cell_type": "code",
   "execution_count": null,
   "metadata": {
    "collapsed": true,
    "deletable": false,
    "editable": false
   },
   "outputs": [],
   "source": [
    "all_comp_data = {\"data\": [], \"target\": [], \"data_test\": [], \"target_test\": []}\n",
    "for bunch in comp_tasks:\n",
    "    x_temp, y_temp = [bunch.data, bunch.target]\n",
    "    X_train, X_test, y_train, y_test = train_test_split(x_temp, y_temp, test_size=0.25, random_state=42)\n",
    "    all_comp_data[\"data\"].append(X_train)\n",
    "    all_comp_data[\"target\"].append(y_train)        \n",
    "    all_comp_data[\"data_test\"].append(X_test)\n",
    "    all_comp_data[\"target_test\"].append(y_test)\n",
    "\n",
    "X_train_comp = np.concatenate(all_comp_data[\"data\"])\n",
    "y_train_comp = np.concatenate(all_comp_data[\"target\"]).reshape(2850, 1)"
   ]
  },
  {
   "cell_type": "code",
   "execution_count": null,
   "metadata": {
    "collapsed": true,
    "deletable": false,
    "editable": false
   },
   "outputs": [],
   "source": [
    "generalizedc_mlp = Sequential()\n",
    "generalizedc_mlp.add(Dense(input_dim=X_train_comp.shape[1], units=20, activation='relu'))\n",
    "generalizedc_mlp.add(Dense(units=10, activation='relu'))\n",
    "generalizedc_mlp.add(Dense(1))\n",
    "\n",
    "generalizedc_mlp.compile(loss='mean_squared_error',\n",
    "            optimizer='rmsprop',\n",
    "            metrics=[])\n",
    "\n",
    "generalizedc_mlp.fit(X_train_comp, y_train_comp, epochs=20, shuffle=True, verbose=0)"
   ]
  },
  {
   "cell_type": "code",
   "execution_count": null,
   "metadata": {
    "collapsed": true,
    "deletable": false,
    "editable": false
   },
   "outputs": [],
   "source": [
    "yc_general=[]\n",
    "yc_general_std=[]\n",
    "yhatc_general=[]\n",
    "yhatc_general_std=[]\n",
    "msesc_general=[]\n",
    "\n",
    "for X_test, y_test in zip(all_comp_data[\"data_test\"], all_comp_data[\"target_test\"]):\n",
    "    yhat_mlp = generalizedc_mlp.predict(X_test)\n",
    "\n",
    "    y_test_plot = y_test.ravel()\n",
    "    yhat_mlp_plot = yhat_mlp.ravel()\n",
    "    \n",
    "    yc_general.append(np.mean(y_test_plot))\n",
    "    yc_general_std.append(np.std(y_test_plot))\n",
    "    yhatc_general.append(np.mean(yhat_mlp_plot))\n",
    "    yhatc_general_std.append(np.std(yhat_mlp_plot))\n",
    "    \n",
    "    mse = mean_squared_error(y_test, yhat_mlp)\n",
    "    msesc_general.append(mse)"
   ]
  },
  {
   "cell_type": "code",
   "execution_count": null,
   "metadata": {
    "collapsed": true,
    "deletable": false,
    "editable": false,
    "scrolled": false
   },
   "outputs": [],
   "source": [
    "plt.figure(figsize=(15,10))\n",
    "bland_altman_plot(yc_general, yhatc_general, yc_general_std, yhatc_general_std)\n",
    "plt.title('Bland-Altman Test Scores')\n",
    "plt.xlabel('Mean Score', fontsize=8)\n",
    "plt.ylabel('Diff Score', fontsize=8)\n",
    "plt.show()"
   ]
  },
  {
   "cell_type": "code",
   "execution_count": null,
   "metadata": {
    "collapsed": true,
    "deletable": false,
    "editable": false
   },
   "outputs": [],
   "source": [
    "avg = float(np.mean(msesc_general))\n",
    "print (\"Average Mean Squared Error: \", avg)"
   ]
  },
  {
   "cell_type": "markdown",
   "metadata": {},
   "source": [
    "## Computer Survey Multi-Task Model"
   ]
  },
  {
   "cell_type": "code",
   "execution_count": null,
   "metadata": {
    "collapsed": true,
    "deletable": false,
    "editable": false
   },
   "outputs": [],
   "source": [
    "from keras.layers import Input, Dense\n",
    "from keras.models import Model\n",
    "\n",
    "inputs = Input(shape=(X_train_comp.shape[1],))\n",
    "shared_mlp = Dense(64, activation='relu')(inputs)\n",
    "shared_mlp = Dense(64, activation='relu')(shared_mlp)\n",
    "\n",
    "models_mtl = []\n",
    "\n",
    "for _ in range(len(comp_tasks)):\n",
    "    personal_layer = Dense(10, activation='relu')(shared_mlp)\n",
    "    output_layer = Dense(1)(personal_layer)\n",
    "    model = Model(inputs=inputs, outputs=output_layer)\n",
    "    model.compile(optimizer='rmsprop', loss='mean_squared_error')\n",
    "    models_mtl.append(model)"
   ]
  },
  {
   "cell_type": "code",
   "execution_count": null,
   "metadata": {
    "collapsed": true,
    "deletable": false,
    "editable": false
   },
   "outputs": [],
   "source": [
    "all_comp_data = []\n",
    "all_comp_test = []\n",
    "\n",
    "weights = {}\n",
    "for bunch in comp_tasks:\n",
    "    ID = int(bunch.ID.split(\" \")[-1])\n",
    "    X_train, X_test, y_train, y_test = train_test_split(bunch.data, bunch.target, test_size=0.25, random_state=42)\n",
    "    for row, target in zip(X_train, y_train):\n",
    "        instance = {}\n",
    "        instance[\"data\"] = row.reshape((1, 14))\n",
    "        instance[\"subject\"] = ID\n",
    "        instance[\"target\"] = target\n",
    "        all_comp_data.append(instance)\n",
    "        \n",
    "    for row, target in zip(X_test, y_test):\n",
    "        instance = {}\n",
    "        instance[\"data\"] = row.reshape((1, 14))\n",
    "        instance[\"subject\"] = ID\n",
    "        instance[\"target\"] = target\n",
    "        all_comp_test.append(instance)"
   ]
  },
  {
   "cell_type": "code",
   "execution_count": null,
   "metadata": {
    "collapsed": true,
    "deletable": false,
    "editable": false
   },
   "outputs": [],
   "source": [
    "import random\n",
    "random.shuffle(all_comp_data)"
   ]
  },
  {
   "cell_type": "code",
   "execution_count": null,
   "metadata": {
    "collapsed": true,
    "deletable": false,
    "editable": false
   },
   "outputs": [],
   "source": [
    "EPOCHS = 10\n",
    "for _underscore in range(10):\n",
    "    for instance in all_comp_data:\n",
    "        models_mtl[instance[\"subject\"]].train_on_batch(instance[\"data\"], instance[\"target\"])"
   ]
  },
  {
   "cell_type": "code",
   "execution_count": null,
   "metadata": {
    "collapsed": true,
    "deletable": false,
    "editable": false
   },
   "outputs": [],
   "source": [
    "computer_ya = [ [] for x in range(190)]\n",
    "computer_yhata = [ [] for x in range(190)]\n",
    "\n",
    "for test in all_comp_test:\n",
    "    X_test = test[\"data\"]\n",
    "    y_test = test[\"target\"]\n",
    "    \n",
    "    mlp = models_mtl[test[\"subject\"]]\n",
    "    \n",
    "    yhat_mlp = mlp.predict(X_test)\n",
    "    \n",
    "    y_test_plot = y_test.ravel()\n",
    "    yhat_mlp_plot = yhat_mlp.ravel()\n",
    "\n",
    "    computer_ya[test[\"subject\"]].append(y_test_plot)\n",
    "    computer_yhata[test[\"subject\"]].append(yhat_mlp_plot)"
   ]
  },
  {
   "cell_type": "code",
   "execution_count": null,
   "metadata": {
    "collapsed": true,
    "deletable": false,
    "editable": false
   },
   "outputs": [],
   "source": [
    "yc_mtl=[]\n",
    "yc_mtl_std=[]\n",
    "yhatc_mtl=[]\n",
    "yhatc_mtl_std=[]\n",
    "msesc_mtl=[]\n",
    "\n",
    "plt.figure(figsize=(15,10))\n",
    "\n",
    "for x, y in zip(computer_ya, computer_yhata):\n",
    "    yc_mtl.append(np.mean(x))\n",
    "    yc_mtl_std.append(np.std(x))\n",
    "    yhatc_mtl.append(np.mean(y))\n",
    "    yhatc_mtl_std.append(np.std(y))\n",
    "    \n",
    "    mse = mean_squared_error(x, y)\n",
    "    msesc_mtl.append(mse)\n",
    "    \n",
    "bland_altman_plot(yc_mtl, yhatc_mtl, yc_mtl_std, yhatc_mtl_std)\n",
    "plt.title('Bland-Altman Test Scores')\n",
    "plt.xlabel('Mean Score', fontsize=8)\n",
    "plt.ylabel('Diff Score', fontsize=8)\n",
    "plt.show()"
   ]
  },
  {
   "cell_type": "code",
   "execution_count": null,
   "metadata": {
    "collapsed": true,
    "deletable": false,
    "editable": false
   },
   "outputs": [],
   "source": [
    "avg = float(np.mean(msesc_mtl))\n",
    "print (\"Average of Mean Squared Error: \", avg)"
   ]
  },
  {
   "cell_type": "markdown",
   "metadata": {},
   "source": [
    "# ChemBL\n",
    "\n",
    "ChEMBL is an actively maintained and used chemical database of bioactive molecules with drug-like properties. The European Bioinformatics Institute (EBI) is in charge of keeping up to date with it. \n",
    "\n",
    "\n",
    "## ChemBL Data\n",
    "The first part of the code is meant to take in the ChemBL molecules and transform them into a readable data set in order for us to use it with rdkit. \n",
    "\n",
    "TODO: Pray to Pavel that he will help us again."
   ]
  },
  {
   "cell_type": "code",
   "execution_count": null,
   "metadata": {
    "collapsed": true,
    "deletable": false,
    "editable": false
   },
   "outputs": [],
   "source": [
    "import pandas, numpy\n",
    "\n",
    "def cleanUp(filename, BA='IC50', UNITS='nM'):\n",
    "   # Read in the file.\n",
    "   d = pandas.read_table(filename, sep=r',(?=(?:[^\"]*\"[^\"]*\")*[^\"]*$)', engine='python')\n",
    "\n",
    "   # Eliminate duplicates.\n",
    "   #d =d.drop_duplicates(['ACTIVITY_ID'])\n",
    "\n",
    "   # Retain only IC50 entries\n",
    "   # (do not mess with the conversion -- like, from logIC50 or pIC50 to IC50 -- as the fraction of\n",
    "   # those entries is negligible).\n",
    "   d = d[d.STANDARD_TYPE==BA]\n",
    "\n",
    "   # Restrict to exclusively human targets\n",
    "   # (this will take care of unwanted 'Starlite ...' entries as well).\n",
    "   #d = d[d.NAME.str.startswith('h')]\n",
    "\n",
    "   # Retain only the nM entries.\n",
    "   d = d[d.STANDARD_UNITS==UNITS]\n",
    "\n",
    "   # Integerize the DOM_ID column (the COMPOUND_ID column type is already 'int').\n",
    "   d.DOC_ID = d.DOC_ID.astype(int)\n",
    "\n",
    "   # Delete idle columns.\n",
    "   #d.drop([Column Name or list],inplace=True,axis=1)\n",
    "\n",
    "   return d\n",
    "\n",
    "def binarizeInteractions(d, MIN=100, MAX=10000):\n",
    "   # Apply the interaction criterion.\n",
    "   ci = d[((d.STANDARD_RELATION=='=') | (d.STANDARD_RELATION=='~') | (d.STANDARD_RELATION=='<') | (d.STANDARD_RELATION=='<=')) & (d.STANDARD_VALUE<=MIN)]\n",
    "   # Apply the non-interaction criterion.\n",
    "   no = d[((d.STANDARD_RELATION=='=') | (d.STANDARD_RELATION=='~') | (d.STANDARD_RELATION=='>') | (d.STANDARD_RELATION=='>>') | (d.STANDARD_RELATION=='>=')) & (d.STANDARD_VALUE>=MAX)]\n",
    "   print(\"Look up how to suppress the warning message below.\")\n",
    "   ci.STANDARD_VALUE = 1\n",
    "   no.STANDARD_VALUE = 0\n",
    "   return pandas.concat([ci, no])\n",
    "\n",
    "d = cleanUp(\"generated_data/molecules.csv\")\n",
    "cino = binarizeInteractions(d)\n",
    "# Remove entries with less than 50 ligands per target.\n",
    "cino = cino.groupby('MOLGREGNO').filter(lambda x: len(x) > 49)\n",
    "\n",
    "dom_ID = numpy.unique( cino.DOC_ID.value_counts().index )\n",
    "com_ID = numpy.unique( cino.RECORD_ID.value_counts().index )\n",
    "print (com_ID.size, dom_ID.size)\n",
    "\n",
    "# Initialize the target-compound matrix.\n",
    "ma = pandas.DataFrame( numpy.nan*numpy.ones((com_ID.size, dom_ID.size)), columns=dom_ID, index=com_ID )\n",
    "# Fill in the target-compound matrix and save it as a file.\n",
    "for i, r in cino.iterrows():\n",
    "   ma[r.DOC_ID][r.RECORD_ID] = r.STANDARD_VALUE\n",
    "ma.to_csv(\"ChemBL/kinda_works.csv\")\n",
    "\n",
    "#d = pandas.read_csv('ChemBL/kinda_works.csv')\n",
    "#d.columns = d.columns.astype(int)"
   ]
  },
  {
   "cell_type": "code",
   "execution_count": null,
   "metadata": {
    "collapsed": true,
    "deletable": false,
    "editable": false
   },
   "outputs": [],
   "source": [
    "from __future__ import print_function\n",
    "\n",
    "from rdkit import Chem\n",
    "from rdkit.Chem import MACCSkeys, AllChem\n",
    "from rdkit.Avalon import pyAvalonTools as fpAvalon\n",
    "from rdkit.Chem.AtomPairs import Pairs, Torsions\n",
    "from rdkit.Chem.Fingerprints import FingerprintMols\n",
    "from rdkit.Chem.ChemicalFeatures import BuildFeatureFactory\n",
    "from rdkit.Chem import rdMolDescriptors\n",
    "import pandas as pd\n",
    "import argparse\n",
    "import textwrap\n",
    "import getopt\n",
    "from argparse import ArgumentParser\n",
    "import time\n",
    "\n",
    "def CalculateFP_mod(smiles, N_BITS=512):\n",
    "    m = Chem.MolFromSmiles(smiles)\n",
    "    if m is None:\n",
    "        raise ValueError('SMILES cannot be converted to a RDKit molecules:', smiles)\n",
    "\n",
    "    return AllChem.GetMorganFingerprintAsBitVect(m, 2, nBits=N_BITS)\n",
    "\n",
    "\n",
    "if __name__ == \"__main__\":\n",
    "    parser = ArgumentParser()\n",
    "\n",
    "    parser.add_argument(\"-i\", \"--input\", dest=\"ligandsWithSmiles\", required=True,help=\"expected file containing 2 cols molregno,smiles\", metavar=\"FILE\")\n",
    "\n",
    "    parser.add_argument(\"-s\", \"--size\", dest=\"numBits\", default=512,help=\"Size of fingerprints\",metavar=\"NumBits\")\n",
    "\n",
    "\n",
    "\n",
    "    args = parser.parse_args()\n",
    "\n",
    "    print ( \"reading from file   %s\" %(args.ligandsWithSmiles))\n",
    "\n",
    "    ipFile = args.ligandsWithSmiles\n",
    "\n",
    "    df = pd.read_csv(ipFile)\n",
    "\n",
    "\n",
    "\n",
    "    numBits = int(args.numBits)\n",
    "    count = 0\n",
    "    errorCompounds = []\n",
    "\n",
    "\n",
    "\n",
    "    current_milli_time = lambda: int(round(time.time() * 1000))\n",
    "\n",
    "    opFile = \"ChemBL/CompoundFingerPrints_%d_%s.csv\"%(numBits,current_milli_time())\n",
    "\n",
    "    print(\"Generating output file with fingerprints %s\"%opFile)\n",
    "    with open(opFile,\"w\") as fpFile :\n",
    "\n",
    "        tempLine = \"\"\n",
    "\n",
    "        tempLine =\"molregno\"\n",
    "        for i in range(0,numBits):\n",
    "            tempLine=tempLine+\",\"+\"Compound_\"+str(i)\n",
    "        fpFile.writelines(tempLine+\"\\n\")\n",
    "\n",
    "        tempLine = \"\"\n",
    "\n",
    "        for row in df.iterrows():\n",
    "            mol= row[1][0]\n",
    "            smilesCode= row[1][1]\n",
    "\n",
    "            try:\n",
    "                count = count + 1\n",
    "                tempLine = str(mol)\n",
    "\n",
    "                temp = CalculateFP_mod(smilesCode)\n",
    "                strFP = temp.ToBitString()\n",
    "\n",
    "                for i in range(0,len(strFP)):\n",
    "                    tempLine=tempLine+\",\"+strFP[i]\n",
    "\n",
    "\n",
    "                fpFile.writelines(tempLine+\"\\n\")\n",
    "\n",
    "                if count%100000 ==0 :\n",
    "                    print(count)\n",
    "            except :\n",
    "                errorCompounds.append(mol)\n",
    "\n",
    "\n",
    "    print(\"Generating error.log for failed compounds\")\n",
    "    with open(\"ChemBL/error.log\",\"w\") as fp :\n",
    "        fp.write(\"Following compounds errored out \\n\")\n",
    "        fp.write(str(errorCompounds))\n"
   ]
  },
  {
   "cell_type": "markdown",
   "metadata": {},
   "source": [
    "# Multi-modal Summary\n",
    "A multi-modal design can be defined as a system designed to fufill one task based on a variety of similar input. The reason for this design is due to the many advantages it offers in the right situations. For example, in the medical field, a doctor uses multiple image data (such as a CT, MRI, ultrasound, etc) in order to be able to diagnose a patient more effectively. \n",
    "   \n",
    "There are a varierty of ways one can go about combining similar data together to be used. Early fusion is when the different data sources are combined together in the pre-processing phase through either PCA, ICA, or CCA and then presented to the machine learning algorithm to be processed. Later on, late fusion became the norm as ensemble classifiers became more and more popular. This method was typically easier and better to implement, especially if the different inputs varied significantly. However, recently, Deep Neural Network Architectures have paved a way for a third type, Indermediate fusion, a method of merging the modality throughout the many hidden layers and connecting the data on a very abstract, yet effective, level.\n",
    "<img src=\"images/multi-modal-graph.png\" width=\"700\">"
   ]
  },
  {
   "cell_type": "markdown",
   "metadata": {},
   "source": [
    "## References\n",
    "Image #1: http://stanford.edu/~eadeli/\n",
    "\n",
    "Image #2: http://ruder.io/multi-task/\n",
    "\n",
    "Bland-Altman picture & info : https://en.wikipedia.org/wiki/Bland%E2%80%93Altman_plot\n",
    "\n",
    "Source: https://keras.io/getting-started/functional-api-guide/#multi-input-and-multi-output-models\n",
    "\n",
    "Bland Altman: https://en.wikipedia.org/wiki/Bland%E2%80%93Altman_plot\n",
    "\n",
    "School Papers:\n",
    "\n",
    "Overview of Multi-Task Learning: https://arxiv.org/pdf/1706.05098.pdf\n",
    "\n",
    "Multi-modal Learning: https://ieeexplore.ieee.org/stamp/stamp.jsp?arnumber=8103116\n",
    "   \n",
    "2015 https://www.ijcai.org/Proceedings/15/Papers/512.pdf\n",
    "   \n",
    "2017 https://arxiv.org/pdf/1703.00977.pdf\n",
    "\n",
    "2017 https://arxiv.org/pdf/1611.03427.pdf\n",
    "\n",
    "data import: https://github.com/tjanez/PyMTL/blob/master/src/PyMTL/data.py"
   ]
  },
  {
   "cell_type": "code",
   "execution_count": null,
   "metadata": {
    "collapsed": true
   },
   "outputs": [],
   "source": []
  }
 ],
 "metadata": {
  "kernelspec": {
   "display_name": "Python 3",
   "language": "python",
   "name": "python3"
  },
  "language_info": {
   "codemirror_mode": {
    "name": "ipython",
    "version": 3
   },
   "file_extension": ".py",
   "mimetype": "text/x-python",
   "name": "python",
   "nbconvert_exporter": "python",
   "pygments_lexer": "ipython3",
   "version": "3.6.3"
  }
 },
 "nbformat": 4,
 "nbformat_minor": 2
}
