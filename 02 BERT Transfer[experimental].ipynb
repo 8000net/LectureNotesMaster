{
 "cells": [
  {
   "cell_type": "markdown",
   "id": "80d4b4bc-f7f0-482a-b7e5-ebc62af63acd",
   "metadata": {},
   "source": [
    "_________\n",
    "# Installing Torch and Dependencies\n",
    "We will use hugging face transformers to load and use BERT. I used the following for installation:\n",
    "```\n",
    "pip install -U pip setuptools wheel\n",
    "pip install torch torchvision\n",
    "pip install transformers\n",
    "pip install pillow\n",
    "pip install tensorflow-macos tensorflow-metal\n",
    "pip install numpy==1.23.5\n",
    "pip install tf-keras==2.16\n",
    "```\n",
    "Since hugging face is commonly built for PyTorch, that is also what we will use."
   ]
  },
  {
   "cell_type": "code",
   "execution_count": 1,
   "id": "4f6f9d18-ac45-42e5-a63a-bcf8f46c35e7",
   "metadata": {},
   "outputs": [
    {
     "name": "stdout",
     "output_type": "stream",
     "text": [
      "Torch: 2.5.1\n",
      "MPS: True\n"
     ]
    }
   ],
   "source": [
    "# NOTE: When installing torch, use the instructions from here: https://pytorch.org/get-started/locally/\n",
    "#  You should be using pip or pip3 to install on your system. This ensures GPU support is added, if possible. \n",
    "import torch\n",
    "print(f\"Torch: {torch.__version__}\")\n",
    "print(f\"MPS: {torch.backends.mps.is_available()}\") # able to use Apple Metal Performance Shaders (MPS)? \n",
    "device = torch.device(\"mps\")"
   ]
  },
  {
   "cell_type": "code",
   "execution_count": 2,
   "id": "810262f3-d5bc-4a37-b501-de67ca99d68a",
   "metadata": {},
   "outputs": [
    {
     "name": "stdout",
     "output_type": "stream",
     "text": [
      "Tensorflow: 2.16.2\n",
      "NumPy: 1.23.5\n"
     ]
    }
   ],
   "source": [
    "# we are also going to use hugging face, which requires the use of tensorflow\n",
    "# NOTE: The version of numpy used is NOT the latest, I had to downgrade for compatibility\n",
    "import tensorflow as tf\n",
    "print(f\"Tensorflow: {tf.__version__}\")\n",
    "\n",
    "import numpy as np\n",
    "print(f\"NumPy: {np.__version__}\")"
   ]
  },
  {
   "cell_type": "code",
   "execution_count": 3,
   "id": "ffb81346-62b2-4844-995b-b96f25d22944",
   "metadata": {},
   "outputs": [
    {
     "data": {
      "text/plain": [
       "'2.16.0'"
      ]
     },
     "execution_count": 3,
     "metadata": {},
     "output_type": "execute_result"
    }
   ],
   "source": [
    "# hugging face also requires a separate tf-keras install (which must also be a downgraded version)\n",
    "import tf_keras\n",
    "tf_keras.__version__"
   ]
  },
  {
   "cell_type": "markdown",
   "id": "9aac3909-dbcf-4e7c-b60a-7bd07caaa0d1",
   "metadata": {},
   "source": [
    "_____\n",
    "# A Brief Explanation of BERT\n",
    "BERT stands for Bidirectional Encoder Representations from Transformers and it trains a modest sized transformer architecture in a few ways: \n",
    "- Next Sentence Prediction (NSP), should two sentences should logically follow each other?\n",
    "- Masked Language Model (Masked LM), if some words are masked, can the model guess the masked words correctly based on the other words in the document.\n",
    "- Two version exists: BERT-base (12 encoder layers) vs. BERT-large (24 encoder layers)\n",
    "- Hugging face offers open source trained models for BERT that are accesisble using PyTorch: https://huggingface.co/google-bert/bert-base-uncased\n",
    "\n",
    "Note also that there are some implementations that subsume the transfer learning, but these methods also hide some of the nuances and control. Common examples might look like the following:\n",
    "\n",
    "```python\n",
    " # Define training arguments\n",
    " training_args = TrainingArguments(\n",
    "     output_dir='./results',\n",
    "     eval_strategy=\"epoch\",\n",
    "     per_device_train_batch_size= ...,\n",
    "     per_device_eval_batch_size= ...,\n",
    "     num_train_epochs= ...,\n",
    "     weight_decay= ... ,\n",
    " )\n",
    "\n",
    " # Define the Trainer\n",
    " trainer = Trainer(\n",
    "     model=model,\n",
    "     args=training_args,\n",
    "     train_dataset=train_data,\n",
    "     eval_dataset=eval_data,\n",
    " )\n",
    "\n",
    "# Train the model\n",
    "trainer.train()\n",
    "```\n",
    "\n",
    "However, the code for transfer learning typically needs to be more agile and adaptable than these API methods allow. Therefore, we need a bit more in-depth tutorial on using transfer learning.\n",
    "\n",
    "There are some existing resources for transfer learning from BERT, like the following:\n",
    "- A repository fine tuning all of BERT on 20 news groups: https://github.com/CSCfi/machine-learning-scripts/blob/master/examples/pytorch_20ng_bert.py\n",
    "- An in depth look from kaggle on transfer learning with IMdB: https://www.kaggle.com/code/pashupatigupta/transfer-learning-using-bert-in-depth\n",
    "\n",
    "_____\n",
    "# Loading BERT\n",
    "\n",
    "**TODO: Add more BERT Explanation. Mark as experimental until this explanation is finalized.**\n",
    "\n",
    "- **Overall Architecture**\n",
    "  - Input Processing: Words are first tokenized and embedded using words embeddings. \n",
    "  - Encoder: Embeddings are fed into transformer layers. Many transformer layers are employed. Pre-trained weights in the encoder capture general linguistic patterns (e.g., syntax, semantics). During fine-tuning, the encoder layers are often partially or fully updated to adapt to the specific task.\n",
    "  - Pooling Module: Determines how the encoder outputs are aggregated for the downstream task. This changes depending upon how transfer learning will be employed. For example:\n",
    "    - (1) Entire Sequence Classification tasks: Use the [CLS] token embedding.\n",
    "    - (2) Sequence labeling tasks (e.g., Named Entity Recognition): Use token embeddings directly.\n",
    "    - (3) Text similarity tasks: Use embeddings from both sequences for comparison.\n",
    "- **Input Processing**\n",
    "  - To make text understandable to BERT, it converts the input into a fixed format:\n",
    "    - Tokens: The text is split into subwords using the WordPiece tokenizer in BERT. \n",
    "    - Token Embeddings: Each token is mapped to a dense vector using an embedding matrix. The embedding size for each word is 768 elements. \n",
    "    - Segment Embeddings: Different segments (e.g., sentence A vs. sentence B) are marked for tasks involving pairs of sentences.\n",
    "    - Positional Embeddings: Added to token embeddings to encode token order in the sequence. Since transformers do not have a built-in notion of sequence order, BERT adds these embeddings to represent token positions.\n",
    "    - The final input is the sum of these three embeddings.\n",
    "  - A note on the CLS Token Representation: BERT introduces a special [CLS] token at the beginning of every input sequence and an ending [SEP] token to the end of each sequence.  After the encoder processes the sequence, the output embedding corresponding to the [CLS] token is treated as a holistic representation of the entire input. This [CLS] embedding is often passed through a task-specific pooling head for downstream tasks like sequence classification.\n",
    "- **Transformer Encoder** (12-24 transformer layers):\n",
    "  - BERT is built on the transformer encoder architecture, which processes text as a sequence of tokens using self-attention and feed-forward layers. The key elements for each transformer include:\n",
    "    - Multi-Head Self-Attention: Helps the model focus on different parts of the input text simultaneously.\n",
    "    - Feed-Forward Neural Networks (FFNNs): Applied to each token independently after attention mechanisms.\n",
    "    - Layer Normalization: Each sub-layer (attention and FFNN) is followed by layer normalization to stabilize training.\n",
    "    - Residual Connections: Residual (skip) connections are added around both the self-attention and feed-forward layers to help the model retain information and avoid vanishing gradients.\n",
    "  - The hidden size of the encoder (768 for BERT-base) determines the dimensionality of token embeddings.\n",
    "Each encoder layer maintains the same hidden size, with a total of approximately 110 million parameters in the base model.\n",
    "  - The 12 encoder layers are stacked sequentially, with each layer refining the token embeddings using increasingly complex contextual information.\n",
    "  - The final output of the encoder is a tensor with shape\n",
    "(batch size, sequence length, hidden size), representing contextualized embeddings for all tokens.\n",
    "- **Pooling Module**\n",
    "  - The pooling module is used to aggregate the sequence of token embeddings generated by the encoder into a single fixed-size representation. This is crucial for tasks that require a single representation of the input, such as classification.\n"
   ]
  },
  {
   "cell_type": "code",
   "execution_count": 4,
   "id": "ad7e7f5f-8655-4020-9276-ad0118ad7ee0",
   "metadata": {},
   "outputs": [
    {
     "name": "stderr",
     "output_type": "stream",
     "text": [
      "Some weights of BertForSequenceClassification were not initialized from the model checkpoint at bert-base-uncased and are newly initialized: ['classifier.bias', 'classifier.weight']\n",
      "You should probably TRAIN this model on a down-stream task to be able to use it for predictions and inference.\n"
     ]
    },
    {
     "data": {
      "text/plain": [
       "BertForSequenceClassification(\n",
       "  (bert): BertModel(\n",
       "    (embeddings): BertEmbeddings(\n",
       "      (word_embeddings): Embedding(30522, 768, padding_idx=0)\n",
       "      (position_embeddings): Embedding(512, 768)\n",
       "      (token_type_embeddings): Embedding(2, 768)\n",
       "      (LayerNorm): LayerNorm((768,), eps=1e-12, elementwise_affine=True)\n",
       "      (dropout): Dropout(p=0.1, inplace=False)\n",
       "    )\n",
       "    (encoder): BertEncoder(\n",
       "      (layer): ModuleList(\n",
       "        (0-11): 12 x BertLayer(\n",
       "          (attention): BertAttention(\n",
       "            (self): BertSdpaSelfAttention(\n",
       "              (query): Linear(in_features=768, out_features=768, bias=True)\n",
       "              (key): Linear(in_features=768, out_features=768, bias=True)\n",
       "              (value): Linear(in_features=768, out_features=768, bias=True)\n",
       "              (dropout): Dropout(p=0.1, inplace=False)\n",
       "            )\n",
       "            (output): BertSelfOutput(\n",
       "              (dense): Linear(in_features=768, out_features=768, bias=True)\n",
       "              (LayerNorm): LayerNorm((768,), eps=1e-12, elementwise_affine=True)\n",
       "              (dropout): Dropout(p=0.1, inplace=False)\n",
       "            )\n",
       "          )\n",
       "          (intermediate): BertIntermediate(\n",
       "            (dense): Linear(in_features=768, out_features=3072, bias=True)\n",
       "            (intermediate_act_fn): GELUActivation()\n",
       "          )\n",
       "          (output): BertOutput(\n",
       "            (dense): Linear(in_features=3072, out_features=768, bias=True)\n",
       "            (LayerNorm): LayerNorm((768,), eps=1e-12, elementwise_affine=True)\n",
       "            (dropout): Dropout(p=0.1, inplace=False)\n",
       "          )\n",
       "        )\n",
       "      )\n",
       "    )\n",
       "    (pooler): BertPooler(\n",
       "      (dense): Linear(in_features=768, out_features=768, bias=True)\n",
       "      (activation): Tanh()\n",
       "    )\n",
       "  )\n",
       "  (dropout): Dropout(p=0.1, inplace=False)\n",
       "  (classifier): Linear(in_features=768, out_features=20, bias=True)\n",
       ")"
      ]
     },
     "execution_count": 4,
     "metadata": {},
     "output_type": "execute_result"
    }
   ],
   "source": [
    "from transformers import BertTokenizer, BertForSequenceClassification, Trainer, TrainingArguments\n",
    "\n",
    "# Load a pre-trained BERT model and tokenizer\n",
    "model = BertForSequenceClassification.from_pretrained('bert-base-uncased', \n",
    "                                                      num_labels=20,\n",
    "                                                      output_hidden_states=False\n",
    "                                                     )\n",
    "tokenizer = BertTokenizer.from_pretrained('bert-base-uncased')\n",
    "model"
   ]
  },
  {
   "cell_type": "markdown",
   "id": "b8f6df77-21fc-4485-b594-801867ce4d51",
   "metadata": {},
   "source": [
    "In the above loading, we explicitly did NOT load the hidden layers as outputs. That means that the intermediate activations from BERT are not exposed outside the computation graph. Only the output of the model (the 20 classes we setup) are exposed. \n",
    "\n",
    "If we wanted to access these intermediate activations (for each token and each layer of BERT), it would greatly increase the number of parameters that we need to access after a feedforward pass. This is a bit slower to run, but it would allow us to do different transfer learning. As an example, accessing the hidden layer outputs can be achieved with the following code:\n",
    "```python\n",
    "model = Bert[...].from_pretrained(... output_hidden_states=True ...)\n",
    "\n",
    "# get the model output\n",
    "encoded_input = tokenizer(text, return_tensors='pt')\n",
    "output = model(**encoded_input)\n",
    "\n",
    "# the hidden states is organized by the layers in BERT and the tokens\n",
    "token = 0 # the position of the token within BERT, '0' is the CLS token\n",
    "layer = -1 # the final layer of BERT, before pooling is applied\n",
    "output.hidden_states[layer][0][token]\n",
    "\n",
    "```\n",
    "the results would be a 768 element vector for the CLS token in the last layer of BERT"
   ]
  },
  {
   "cell_type": "code",
   "execution_count": 5,
   "id": "7a7c1b17-94e8-4d41-b30a-d9ac926e5d17",
   "metadata": {
    "scrolled": true
   },
   "outputs": [
    {
     "data": {
      "text/plain": [
       "BertForSequenceClassification(\n",
       "  (bert): BertModel(\n",
       "    (embeddings): BertEmbeddings(\n",
       "      (word_embeddings): Embedding(30522, 768, padding_idx=0)\n",
       "      (position_embeddings): Embedding(512, 768)\n",
       "      (token_type_embeddings): Embedding(2, 768)\n",
       "      (LayerNorm): LayerNorm((768,), eps=1e-12, elementwise_affine=True)\n",
       "      (dropout): Dropout(p=0.1, inplace=False)\n",
       "    )\n",
       "    (encoder): BertEncoder(\n",
       "      (layer): ModuleList(\n",
       "        (0-11): 12 x BertLayer(\n",
       "          (attention): BertAttention(\n",
       "            (self): BertSdpaSelfAttention(\n",
       "              (query): Linear(in_features=768, out_features=768, bias=True)\n",
       "              (key): Linear(in_features=768, out_features=768, bias=True)\n",
       "              (value): Linear(in_features=768, out_features=768, bias=True)\n",
       "              (dropout): Dropout(p=0.1, inplace=False)\n",
       "            )\n",
       "            (output): BertSelfOutput(\n",
       "              (dense): Linear(in_features=768, out_features=768, bias=True)\n",
       "              (LayerNorm): LayerNorm((768,), eps=1e-12, elementwise_affine=True)\n",
       "              (dropout): Dropout(p=0.1, inplace=False)\n",
       "            )\n",
       "          )\n",
       "          (intermediate): BertIntermediate(\n",
       "            (dense): Linear(in_features=768, out_features=3072, bias=True)\n",
       "            (intermediate_act_fn): GELUActivation()\n",
       "          )\n",
       "          (output): BertOutput(\n",
       "            (dense): Linear(in_features=3072, out_features=768, bias=True)\n",
       "            (LayerNorm): LayerNorm((768,), eps=1e-12, elementwise_affine=True)\n",
       "            (dropout): Dropout(p=0.1, inplace=False)\n",
       "          )\n",
       "        )\n",
       "      )\n",
       "    )\n",
       "    (pooler): BertPooler(\n",
       "      (dense): Linear(in_features=768, out_features=768, bias=True)\n",
       "      (activation): Tanh()\n",
       "    )\n",
       "  )\n",
       "  (dropout): Dropout(p=0.1, inplace=False)\n",
       "  (classifier): Linear(in_features=768, out_features=20, bias=True)\n",
       ")"
      ]
     },
     "execution_count": 5,
     "metadata": {},
     "output_type": "execute_result"
    }
   ],
   "source": [
    "# now lets place the model on a GPU, for much better parallelism \n",
    "model.to(device)"
   ]
  },
  {
   "cell_type": "markdown",
   "id": "0ef5c382-5536-450d-ab87-1cc7eb701c9e",
   "metadata": {},
   "source": [
    "Notice that BERT is loaded -- however, the very last layer is not trained. That is, we asked torch to load the model and then create a final linear layer with a specific number of outputs (i.e., neurons). This layer is randomly initialized and needs to be trained. You might also see a \"Warning\" that `['classifier.bias', 'classifier.weight']` are newly created and need to be trained for proper usage. \n",
    "\n",
    "This version of BERT is specifically designed for transfer learning to new data, based on sequence classification. It is also possible to load the BERT weights and use them for the MSK and NSP tasks, but this requires loading the BERT model with some additional code that can interpret the outputs. We will not do that here--just load the model with an extra untrained layer. \n",
    "\n",
    "In the example below, we can first tokenize a sentence and then send it through the model. It will output 20 different logit values."
   ]
  },
  {
   "cell_type": "code",
   "execution_count": 6,
   "id": "a9e9015f-82fd-483a-905d-79ad3b64c261",
   "metadata": {},
   "outputs": [
    {
     "name": "stdout",
     "output_type": "stream",
     "text": [
      "Number of words in text: 8, Number of tokens: 15\n",
      "tensor([  101, 21213,  2038,  4973,  2008,  2024,  2307,  1010,  4995,  1005,\n",
      "         1056,  2027,  1029,   999,   102])\n"
     ]
    }
   ],
   "source": [
    "text = \"Larson has examples that are great, aren't they?!\"\n",
    "encoded_input = tokenizer(text, return_tensors='pt') # pt is the PyTorch model\n",
    "\n",
    "# By default, the tokenizer will add a [CLS] and [SEP] token to the example, tokens 101 and 102\n",
    "# The tokenizer will also tokenize some punctuations, some words into multiple tokens\n",
    "#  like superlatives and contractions, etc.\n",
    "print(f\"Number of words in text: {len(text.split(' '))}, Number of tokens: {len(encoded_input.input_ids[0])}\")\n",
    "print(f\"{encoded_input.input_ids[0]}\")"
   ]
  },
  {
   "cell_type": "markdown",
   "id": "57cead9b-49ea-40b6-81e3-bb2d96cf8c71",
   "metadata": {},
   "source": [
    "Notice that the number of tokens is more than just the words and punctuation. In the above example, there are 15 tokens corresponding to the following breakdown of the sentence:\n",
    "\n",
    "\n",
    "|[CLS]|[Larson]|[has]|[examples]|[that]|[are]|[great]|[,]|[aren]|[']|[t]|[they]|[?]|[!]|[SEP]|\n",
    "|:---:|:---:|:---:|:---:|:---:|:---:|:---:|:---:|:---:|:---:|:---:|:---:|:---:|:---:|:---:|\n",
    "|101|21213|2038|4973|2008|2024|2307|1010|4995|1005|1056|2027|1029|999|102|"
   ]
  },
  {
   "cell_type": "code",
   "execution_count": 7,
   "id": "3c4d24a2-20ee-44be-a473-d9a153593de5",
   "metadata": {},
   "outputs": [
    {
     "data": {
      "text/plain": [
       "tensor([[ 0.6088,  0.0798,  0.8314,  0.3452,  0.4662, -0.3856,  0.2378,  0.1696,\n",
       "         -0.3789,  0.2657, -0.5577,  0.0195,  0.0027,  0.0075,  0.5333,  0.9178,\n",
       "         -0.0915,  0.1581,  0.1158, -0.3524]], device='mps:0')"
      ]
     },
     "execution_count": 7,
     "metadata": {},
     "output_type": "execute_result"
    }
   ],
   "source": [
    "# send the tensors to the proper device (like GPU or CPU)\n",
    "# when using torch, you need to explicitly define where the tensors are stored\n",
    "# since we are using the MPS (GPU) of an Apple M-series, we need to transfer the \n",
    "# tensors to that device. The model is already loaded on the GPU.\n",
    "for k in encoded_input.keys():\n",
    "    encoded_input[k] = encoded_input[k].to(device)\n",
    "\n",
    "# by default, operations will have gradients tracked, which we do not need unless\n",
    "#  we are performing back propagation, so let's tell torch NOT to calculate gradients\n",
    "with torch.no_grad():\n",
    "    output = model(**encoded_input)\n",
    "output.logits"
   ]
  },
  {
   "cell_type": "markdown",
   "id": "e5216d80-5631-47cb-9d16-2c6f2085a61d",
   "metadata": {},
   "source": [
    "So now we have a way to access the output of BERT and a way to access the pooled output of BERT that is about 768 units. This is the vector that can be used for training the final layer. But now we can access it and save the bottleneck features. \n",
    "\n",
    "Let's use this on another dataset, the 20 newsgroups data."
   ]
  },
  {
   "cell_type": "code",
   "execution_count": 8,
   "id": "1d0787be-3b52-4e08-be82-041df72dd3a9",
   "metadata": {},
   "outputs": [
    {
     "name": "stdout",
     "output_type": "stream",
     "text": [
      "Found 11314 documents and 11314 labels with unique values of [ 0  1  2  3  4  5  6  7  8  9 10 11 12 13 14 15 16 17 18 19]\n",
      "Number of words in text: 114, Number of tokens: 201\n",
      "{'input_ids': tensor([[  101,  2013,  1024,  3393,  2099,  2595,  3367,  1030, 11333,  2213,\n",
      "          1012,  8529,  2094,  1012,  3968,  2226,  1006,  2073,  1005,  1055,\n",
      "          2026,  2518,  1007,  3395,  1024,  2054,  2482,  2003,  2023,   999,\n",
      "          1029,  1050,  3372,  2361,  1011, 14739,  1011,  3677,  1024, 10958,\n",
      "          2278,  2509,  1012, 11333,  2213,  1012,  8529,  2094,  1012,  3968,\n",
      "          2226,  3029,  1024,  2118,  1997,  5374,  1010,  2267,  2380,  3210,\n",
      "          1024,  2321,  1045,  2001,  6603,  2065,  3087,  2041,  2045,  2071,\n",
      "          4372,  7138,  2368,  2033,  2006,  2023,  2482,  1045,  2387,  1996,\n",
      "          2060,  2154,  1012,  2009,  2001,  1037,  1016,  1011,  2341,  2998,\n",
      "          2482,  1010,  2246,  2000,  2022,  2013,  1996,  2397, 20341,  1013,\n",
      "          2220, 17549,  1012,  2009,  2001,  2170,  1037,  5318,  4115,  1012,\n",
      "          1996,  4303,  2020,  2428,  2235,  1012,  1999,  2804,  1010,  1996,\n",
      "          2392, 21519,  2001,  3584,  2013,  1996,  2717,  1997,  1996,  2303,\n",
      "          1012,  2023,  2003,  2035,  1045,  2113,  1012,  2065,  3087,  2064,\n",
      "          2425,  4168,  1037,  2944,  2171,  1010,  3194, 28699,  2015,  1010,\n",
      "          2086,  1997,  2537,  1010,  2073,  2023,  2482,  2003,  2081,  1010,\n",
      "          2381,  1010,  2030,  3649, 18558,  2017,  2031,  2006,  2023, 24151,\n",
      "          2559,  2482,  1010,  3531,  1041,  1011,  5653,  1012,  4283,  1010,\n",
      "          1011,  6335,  1011,  1011,  1011,  1011,  2716,  2000,  2017,  2011,\n",
      "          2115,  5101,  3393,  2099,  2595,  3367,  1011,  1011,  1011,  1011,\n",
      "           102]]), 'token_type_ids': tensor([[0, 0, 0, 0, 0, 0, 0, 0, 0, 0, 0, 0, 0, 0, 0, 0, 0, 0, 0, 0, 0, 0, 0, 0,\n",
      "         0, 0, 0, 0, 0, 0, 0, 0, 0, 0, 0, 0, 0, 0, 0, 0, 0, 0, 0, 0, 0, 0, 0, 0,\n",
      "         0, 0, 0, 0, 0, 0, 0, 0, 0, 0, 0, 0, 0, 0, 0, 0, 0, 0, 0, 0, 0, 0, 0, 0,\n",
      "         0, 0, 0, 0, 0, 0, 0, 0, 0, 0, 0, 0, 0, 0, 0, 0, 0, 0, 0, 0, 0, 0, 0, 0,\n",
      "         0, 0, 0, 0, 0, 0, 0, 0, 0, 0, 0, 0, 0, 0, 0, 0, 0, 0, 0, 0, 0, 0, 0, 0,\n",
      "         0, 0, 0, 0, 0, 0, 0, 0, 0, 0, 0, 0, 0, 0, 0, 0, 0, 0, 0, 0, 0, 0, 0, 0,\n",
      "         0, 0, 0, 0, 0, 0, 0, 0, 0, 0, 0, 0, 0, 0, 0, 0, 0, 0, 0, 0, 0, 0, 0, 0,\n",
      "         0, 0, 0, 0, 0, 0, 0, 0, 0, 0, 0, 0, 0, 0, 0, 0, 0, 0, 0, 0, 0, 0, 0, 0,\n",
      "         0, 0, 0, 0, 0, 0, 0, 0, 0]]), 'attention_mask': tensor([[1, 1, 1, 1, 1, 1, 1, 1, 1, 1, 1, 1, 1, 1, 1, 1, 1, 1, 1, 1, 1, 1, 1, 1,\n",
      "         1, 1, 1, 1, 1, 1, 1, 1, 1, 1, 1, 1, 1, 1, 1, 1, 1, 1, 1, 1, 1, 1, 1, 1,\n",
      "         1, 1, 1, 1, 1, 1, 1, 1, 1, 1, 1, 1, 1, 1, 1, 1, 1, 1, 1, 1, 1, 1, 1, 1,\n",
      "         1, 1, 1, 1, 1, 1, 1, 1, 1, 1, 1, 1, 1, 1, 1, 1, 1, 1, 1, 1, 1, 1, 1, 1,\n",
      "         1, 1, 1, 1, 1, 1, 1, 1, 1, 1, 1, 1, 1, 1, 1, 1, 1, 1, 1, 1, 1, 1, 1, 1,\n",
      "         1, 1, 1, 1, 1, 1, 1, 1, 1, 1, 1, 1, 1, 1, 1, 1, 1, 1, 1, 1, 1, 1, 1, 1,\n",
      "         1, 1, 1, 1, 1, 1, 1, 1, 1, 1, 1, 1, 1, 1, 1, 1, 1, 1, 1, 1, 1, 1, 1, 1,\n",
      "         1, 1, 1, 1, 1, 1, 1, 1, 1, 1, 1, 1, 1, 1, 1, 1, 1, 1, 1, 1, 1, 1, 1, 1,\n",
      "         1, 1, 1, 1, 1, 1, 1, 1, 1]])}\n",
      "From: lerxst@wam.umd.edu (where's my thing)\n",
      "Subject: WHAT car is this!?\n",
      "Nntp-Posting-Host: rac3.wam.umd.edu\n",
      "Organization: University of Maryland, College Park\n",
      "Lines: 15\n",
      "\n",
      " I was wondering if anyone out there could enlighten me on this car I saw\n",
      "the other day. It was a 2-door sports car, looked to be from the late 60s/\n",
      "early 70s. It was called a Bricklin. The doors were really small. In addition,\n",
      "the front bumper was separate from the rest of the body. This is \n",
      "all I know. If anyone can tellme a model name, engine specs, years\n",
      "of production, where this car is made, history, or whatever info you\n",
      "have on this funky looking car, please e-mail.\n",
      "\n",
      "Thanks,\n",
      "- IL\n",
      "   ---- brought to you by your neighborhood Lerxst ----\n",
      "\n",
      "\n",
      "\n",
      "\n",
      "\n"
     ]
    }
   ],
   "source": [
    "# Let's load a simple dataset for training the BERT model. \n",
    "from sklearn.datasets import fetch_20newsgroups\n",
    "\n",
    "bunch = fetch_20newsgroups()\n",
    "print(f\"Found {len(bunch.data)} documents and {len(bunch.target)} labels with unique values of {np.unique(bunch.target)}\")\n",
    "\n",
    "# take an example from here and send into our model\n",
    "example = bunch.data[0]\n",
    "encoded_input = tokenizer(example, return_tensors='pt') # pt is the PyTorch model\n",
    "\n",
    "# By default, the tokenizer will add a [CLS] and [SEP] token to the example, tokens 101 and 102\n",
    "# The tokenizer will also tokenize some punctuations, some words into multiple tokens\n",
    "#  like superlatives and contractions, etc.\n",
    "print(f\"Number of words in text: {len(example.split(' '))}, Number of tokens: {len(encoded_input.input_ids[0])}\")\n",
    "\n",
    "print(encoded_input)\n",
    "print(example)"
   ]
  },
  {
   "cell_type": "code",
   "execution_count": 9,
   "id": "c3ec042f-f9a3-477e-9d85-c7539034fd85",
   "metadata": {},
   "outputs": [
    {
     "name": "stdout",
     "output_type": "stream",
     "text": [
      "SequenceClassifierOutput(loss=None, logits=tensor([[ 0.4932, -0.2563,  0.6848,  0.0898,  0.6126, -0.6445,  0.0484,  0.0019,\n",
      "         -0.4107, -0.0189, -0.4953,  0.0605,  0.2645, -0.0702,  0.4867,  0.6376,\n",
      "         -0.1905,  0.0841,  0.0987, -0.1744]], device='mps:0',\n",
      "       grad_fn=<LinearBackward0>), hidden_states=None, attentions=None)\n"
     ]
    }
   ],
   "source": [
    "# take an example from here and send into our model\n",
    "example = bunch.data[0]\n",
    "encoded_input = tokenizer(example, return_tensors='pt') # pt is the PyTorch model\n",
    "# send to GPU\n",
    "for k in encoded_input.keys():\n",
    "    encoded_input[k] = encoded_input[k].to(device)\n",
    "# get model output\n",
    "output = model(**encoded_input)\n",
    "print(output)"
   ]
  },
  {
   "cell_type": "code",
   "execution_count": 10,
   "id": "b4ceb7da-e458-40a8-bd0b-722df86c211b",
   "metadata": {},
   "outputs": [
    {
     "data": {
      "application/vnd.jupyter.widget-view+json": {
       "model_id": "206ff6f13bdb4948b83fce885dd7ffed",
       "version_major": 2,
       "version_minor": 0
      },
      "text/plain": [
       "Tokenizing:   0%|          | 0/11314 [00:00<?, ?it/s]"
      ]
     },
     "metadata": {},
     "output_type": "display_data"
    },
    {
     "name": "stderr",
     "output_type": "stream",
     "text": [
      "Token indices sequence length is longer than the specified maximum sequence length for this model (536 > 512). Running this sequence through the model will result in indexing errors\n"
     ]
    },
    {
     "data": {
      "image/png": "[encoded data removed]",
      "text/plain": [
       "<Figure size 640x480 with 1 Axes>"
      ]
     },
     "metadata": {},
     "output_type": "display_data"
    }
   ],
   "source": [
    "from matplotlib import pyplot as plt\n",
    "%matplotlib inline\n",
    "from tqdm.notebook import tqdm, trange\n",
    "\n",
    "text_lengths = np.zeros(bunch.target.shape)\n",
    "for idx, (text, label) in enumerate(tqdm(zip(bunch.data, bunch.target), desc=\"Tokenizing\", total=len(bunch.target))): \n",
    "\n",
    "    # here we will tokenize a bit differently, in order to create same length vectors and masks\n",
    "    # we need the tokenized outputs to all be the same length for speeding up computation\n",
    "    encoded_example = tokenizer(text, return_tensors='pt')\n",
    "\n",
    "    text_lengths[idx] = len(encoded_example.input_ids[0])\n",
    "\n",
    "plt.hist(text_lengths, range=(0,1024), bins=50)\n",
    "plt.show()"
   ]
  },
  {
   "cell_type": "markdown",
   "id": "22e9e5de-cb3e-4d9c-8249-35235f4024f8",
   "metadata": {},
   "source": [
    "# Preprocessing the BERT Tokenizer\n",
    "We need to process all the news groups data here such that it is the same length. To do this, we will use truncation and padding (which are included parameters in the tokenizer). By making each entry the same lenght, we can store the values more efficiently, and provide them to the model for training more rapidly. This speed up for truncation and padding explanation was given in CS7324, and mainly stems from not needing to reconfigure the computation graph (a costly operation). It also allows for batching of the data much more easily.\n",
    "\n",
    "So what is the maximum length of document we should allow? The above plot shows that the median document length is around 200 tokens (but can be much longer). BERT also has a practical constraint that it can only process 512 tokens. A reasonable choice is to select about 256 tokens, which means most texts will not be truncated. This is only a 'guess' about the length. A more in depth answer would require that we train different models with varying context lengths, then select based on a validation set. Since we are just now starting out, let's leave that analysis to future work. "
   ]
  },
  {
   "cell_type": "code",
   "execution_count": 11,
   "id": "9404410b-351f-4d29-ae2c-cd770919b23b",
   "metadata": {},
   "outputs": [
    {
     "data": {
      "application/vnd.jupyter.widget-view+json": {
       "model_id": "783c209c676c4dcc9fdeb947883b9642",
       "version_major": 2,
       "version_minor": 0
      },
      "text/plain": [
       "Encoding:   0%|          | 0/11314 [00:00<?, ?it/s]"
      ]
     },
     "metadata": {},
     "output_type": "display_data"
    },
    {
     "name": "stdout",
     "output_type": "stream",
     "text": [
      "Encoded 11314 texts, saving with the following fields: dict_keys(['input_ids', 'token_type_ids', 'attention_mask', 'label_id'])\n"
     ]
    }
   ],
   "source": [
    "\n",
    "\n",
    "# Loop through the newsgroups dataset and save all the outputs of each of the \n",
    "#   tensors so that we can more easily place them through BERT for training\n",
    "max_seq_length = 256 # limit of BERT to process sequence length is 512\n",
    "encoded_dataset = []\n",
    "samples_processed = 0\n",
    "for text, label in tqdm(zip(bunch.data, bunch.target), desc=\"Encoding\", total=len(bunch.target)): \n",
    "\n",
    "    # here we will tokenize a bit differently, in order to create same length vectors and masks\n",
    "    # we need the tokenized outputs to all be the same length for speeding up computation\n",
    "    encoded_example = tokenizer(text, return_tensors='pt', \n",
    "                                truncation=True, \n",
    "                                padding='max_length',\n",
    "                                max_length=max_seq_length)\n",
    "\n",
    "    # add one more dictionary entry for the label\n",
    "    encoded_example['label_id'] = label \n",
    "\n",
    "    assert len(encoded_example.input_ids[0]) == max_seq_length\n",
    "\n",
    "    encoded_dataset.append(encoded_example)\n",
    "\n",
    "print(f\"Encoded {len(encoded_dataset)} texts, saving with the following fields: {encoded_dataset[0].keys()}\")\n",
    "\n"
   ]
  },
  {
   "cell_type": "code",
   "execution_count": 12,
   "id": "45026e95-fb92-42ee-8040-63ea1f684dd3",
   "metadata": {},
   "outputs": [
    {
     "name": "stdout",
     "output_type": "stream",
     "text": [
      "torch.Size([11314, 256])\n"
     ]
    },
    {
     "data": {
      "text/plain": [
       "tensor([[ 101, 2013, 1024,  ...,    0,    0,    0],\n",
       "        [ 101, 2013, 1024,  ...,    0,    0,    0],\n",
       "        [ 101, 2013, 1024,  ..., 1037, 2514,  102],\n",
       "        ...,\n",
       "        [ 101, 2013, 1024,  ...,    0,    0,    0],\n",
       "        [ 101, 2013, 1024,  ..., 1018, 2685,  102],\n",
       "        [ 101, 2013, 1024,  ...,    0,    0,    0]])"
      ]
     },
     "execution_count": 12,
     "metadata": {},
     "output_type": "execute_result"
    }
   ],
   "source": [
    "# here is an example of what we are about to do to combine the tensors in the next cell\n",
    "tmp = torch.cat([d.input_ids for d in encoded_dataset], dim=0)\n",
    "print(tmp.size())\n",
    "tmp"
   ]
  },
  {
   "cell_type": "code",
   "execution_count": 13,
   "id": "a13c7c30-f234-4601-a7c4-f7fca833ef8d",
   "metadata": {},
   "outputs": [
    {
     "name": "stdout",
     "output_type": "stream",
     "text": [
      "Created two datasets training/eval. Training samples: 9051, Evaluation: 2263\n"
     ]
    }
   ],
   "source": [
    "from torch.utils.data import DataLoader, RandomSampler, SequentialSampler, TensorDataset\n",
    "from torch.utils.data import random_split\n",
    "\n",
    "BATCH_SIZE = 16\n",
    "TRAIN_PERC = 0.8 # want 80% for training\n",
    "\n",
    "total_len = len(bunch.target) # total number documents\n",
    "train_size = int(TRAIN_PERC*total_len) # number of docs to get to train percentage\n",
    "eval_size = total_len - train_size # and remainder for evaluation\n",
    "\n",
    "# Need to create dataset from 'input_ids', 'token_type_ids', 'attention_mask', 'label_id'\n",
    "# concatenate the tensors to make one large tensor (each row is a document)\n",
    "all_data = TensorDataset(torch.cat([d.input_ids for d in encoded_dataset], dim=0),\n",
    "                           torch.cat([d.attention_mask for d in encoded_dataset], dim=0), \n",
    "                           torch.cat([d.token_type_ids for d in encoded_dataset], dim=0), \n",
    "                           torch.tensor([d.label_id for d in encoded_dataset], dtype=torch.long)\n",
    "                          )\n",
    "\n",
    "train_data, eval_data = random_split(all_data, [train_size, eval_size])\n",
    "\n",
    "# sample at random from these tensors and setup a loader to loop through the model\n",
    "train_sampler = RandomSampler(train_data)\n",
    "train_dataloader = DataLoader(train_data, sampler=train_sampler, batch_size=BATCH_SIZE)\n",
    "\n",
    "eval_sampler = SequentialSampler(eval_data)\n",
    "eval_dataloader = DataLoader(eval_data, sampler=eval_sampler, batch_size=BATCH_SIZE)\n",
    "\n",
    "print(f\"Created two datasets training/eval. Training samples: {train_size}, Evaluation: {eval_size}\")\n",
    "\n",
    "# free up some memory, already saved in the new dataset\n",
    "del encoded_dataset"
   ]
  },
  {
   "cell_type": "markdown",
   "id": "af18cba5-a556-4fc2-bd25-22a2b8c9b0f4",
   "metadata": {},
   "source": [
    "# Train BERT\n",
    "Now let's train the model in a loop. This is similar to the use of tf GradientTape that we covered in CS7324. We set the model to be in training mode with `model.train()` and then we iterative place examples through the model and update the parameters. \n",
    "\n",
    "Let's start with just placing an example through and calculating the loss function. Then we will iterate over the loader so that we can run back propagation in a loop. \n",
    "\n",
    "The BERT pre-trained model already has a cross entropy loss calculation built-in, which we will use in our examples. However, we could manually calculate our loss function using something like the following code:\n",
    "\n",
    "```python\n",
    "from torch.nn import CrossEntropyLoss\n",
    "\n",
    "# this will be our loss funcion\n",
    "loss_func = CrossEntropyLoss()\n",
    "output = model([...]) # get model outputs\n",
    "loss = loss_func(output.logits, labels)\n",
    "```"
   ]
  },
  {
   "cell_type": "code",
   "execution_count": 14,
   "id": "30b1c5e5-ba33-474b-9640-47f5d79403a7",
   "metadata": {},
   "outputs": [
    {
     "name": "stdout",
     "output_type": "stream",
     "text": [
      "There are 16 samples in the batch, each of size 20\n",
      "The total loss value is 3.1718976497650146\n"
     ]
    }
   ],
   "source": [
    "# grab one batch\n",
    "batch = next(iter(train_dataloader))\n",
    "input_ids, input_mask, input_types, labels = batch\n",
    "\n",
    "# place these examples through model\n",
    "output = model(input_ids.to(device), input_types.to(device), input_mask.to(device), labels=labels.to(device))\n",
    "# output.loss is already part of the given model, added as the loss function for \n",
    "#  this specific pre-trained BERT model. It was added along with the \n",
    "#  final classifier layers when we loaded the model. \n",
    "\n",
    "print(f\"There are {len(output.logits)} samples in the batch, each of size {len(output.logits[0])}\")\n",
    "print(f\"The total loss value is {output.loss}\")"
   ]
  },
  {
   "cell_type": "code",
   "execution_count": 15,
   "id": "cf3e898e-07e8-446e-bc8a-5b9f50c8de6b",
   "metadata": {},
   "outputs": [],
   "source": [
    "# setup some tracking\n",
    "history = {}\n",
    "history['val_loss'] = []\n",
    "history['train_loss'] = []\n",
    "\n",
    "from torch.optim import Adam\n",
    "import torch.optim.lr_scheduler as lr_scheduler\n",
    "\n",
    "TOTAL_EPOCHS = 5 # small number of epochs here in to classifier and pooler working together\n",
    "\n",
    "# only train the final layer of BERT\n",
    "# in our example, the final layer was called 'classifier', as shown in the summary above\n",
    "for param in model.parameters():\n",
    "    param.requires_grad = False\n",
    "\n",
    "# only train the parameters for pooler and the classifier\n",
    "for param in model.bert.pooler.parameters():\n",
    "    param.requires_grad = True\n",
    "\n",
    "for param in model.classifier.parameters():\n",
    "    param.requires_grad = True\n",
    "\n",
    "train_params = list(model.bert.pooler.parameters()) + list(model.classifier.parameters())\n",
    "\n",
    "# we can now tell the optimizer to only optimize these parameters in the model\n",
    "optimizer = Adam(train_params)\n"
   ]
  },
  {
   "cell_type": "code",
   "execution_count": 16,
   "id": "b561adae-c608-410c-9b72-8c4903bd5a87",
   "metadata": {},
   "outputs": [
    {
     "data": {
      "application/vnd.jupyter.widget-view+json": {
       "model_id": "8d529fa00c8c43a08648c8f689f65e13",
       "version_major": 2,
       "version_minor": 0
      },
      "text/plain": [
       "Epoch:   0%|          | 0/5 [00:00<?, ?it/s]"
      ]
     },
     "metadata": {},
     "output_type": "display_data"
    },
    {
     "data": {
      "application/vnd.jupyter.widget-view+json": {
       "model_id": "",
       "version_major": 2,
       "version_minor": 0
      },
      "text/plain": [
       "Training 0:   0%|          | 0/566 [00:00<?, ?it/s]"
      ]
     },
     "metadata": {},
     "output_type": "display_data"
    },
    {
     "data": {
      "application/vnd.jupyter.widget-view+json": {
       "model_id": "",
       "version_major": 2,
       "version_minor": 0
      },
      "text/plain": [
       "Evaluating 0:   0%|          | 0/142 [00:00<?, ?it/s]"
      ]
     },
     "metadata": {},
     "output_type": "display_data"
    },
    {
     "data": {
      "application/vnd.jupyter.widget-view+json": {
       "model_id": "",
       "version_major": 2,
       "version_minor": 0
      },
      "text/plain": [
       "Training 1:   0%|          | 0/566 [00:00<?, ?it/s]"
      ]
     },
     "metadata": {},
     "output_type": "display_data"
    },
    {
     "data": {
      "application/vnd.jupyter.widget-view+json": {
       "model_id": "",
       "version_major": 2,
       "version_minor": 0
      },
      "text/plain": [
       "Evaluating 1:   0%|          | 0/142 [00:00<?, ?it/s]"
      ]
     },
     "metadata": {},
     "output_type": "display_data"
    },
    {
     "data": {
      "application/vnd.jupyter.widget-view+json": {
       "model_id": "",
       "version_major": 2,
       "version_minor": 0
      },
      "text/plain": [
       "Training 2:   0%|          | 0/566 [00:00<?, ?it/s]"
      ]
     },
     "metadata": {},
     "output_type": "display_data"
    },
    {
     "data": {
      "application/vnd.jupyter.widget-view+json": {
       "model_id": "",
       "version_major": 2,
       "version_minor": 0
      },
      "text/plain": [
       "Evaluating 2:   0%|          | 0/142 [00:00<?, ?it/s]"
      ]
     },
     "metadata": {},
     "output_type": "display_data"
    },
    {
     "data": {
      "application/vnd.jupyter.widget-view+json": {
       "model_id": "",
       "version_major": 2,
       "version_minor": 0
      },
      "text/plain": [
       "Training 3:   0%|          | 0/566 [00:00<?, ?it/s]"
      ]
     },
     "metadata": {},
     "output_type": "display_data"
    },
    {
     "data": {
      "application/vnd.jupyter.widget-view+json": {
       "model_id": "",
       "version_major": 2,
       "version_minor": 0
      },
      "text/plain": [
       "Evaluating 3:   0%|          | 0/142 [00:00<?, ?it/s]"
      ]
     },
     "metadata": {},
     "output_type": "display_data"
    },
    {
     "data": {
      "application/vnd.jupyter.widget-view+json": {
       "model_id": "",
       "version_major": 2,
       "version_minor": 0
      },
      "text/plain": [
       "Training 4:   0%|          | 0/566 [00:00<?, ?it/s]"
      ]
     },
     "metadata": {},
     "output_type": "display_data"
    },
    {
     "data": {
      "application/vnd.jupyter.widget-view+json": {
       "model_id": "",
       "version_major": 2,
       "version_minor": 0
      },
      "text/plain": [
       "Evaluating 4:   0%|          | 0/142 [00:00<?, ?it/s]"
      ]
     },
     "metadata": {},
     "output_type": "display_data"
    }
   ],
   "source": [
    "\n",
    "\n",
    "# setup a nice progress bar (tracking epochs), and keep a reference to it for showing validation loss\n",
    "with trange(TOTAL_EPOCHS, desc=\"Epoch\") as pbar:\n",
    "    for epoch in pbar:\n",
    "        # set model to training mode (i.e., use dropout and other training specific operations)\n",
    "        model.train()\n",
    "        total_loss = 0.0\n",
    "        # do one epoch of training\n",
    "        for batch in tqdm(train_dataloader, desc=f\"Training {epoch}\", total=int(train_size/BATCH_SIZE)+1, leave=False):\n",
    "            \n",
    "            # send batch to GPU and separate for the model\n",
    "            batch = tuple(s.to(device) for s in batch)\n",
    "            input_ids, input_mask, input_types, labels = batch\n",
    "    \n",
    "            # because we give the labels, loss is also calculated\n",
    "            output = model(input_ids, input_types, input_mask, labels=labels)\n",
    "    \n",
    "            # back propagation \n",
    "            output.loss.backward() # register loss and perform gradient calculations\n",
    "            optimizer.step() # use gradients in optimizer\n",
    "            optimizer.zero_grad() # clear out gradients\n",
    "\n",
    "            # keep track of train loss\n",
    "            total_loss += output.loss.item() * BATCH_SIZE\n",
    "            \n",
    "            #NOTE: could also accumulate gradient here to artificially expand batch size, \n",
    "            # and extend time between optimizer updates \n",
    "\n",
    "        total_loss = total_loss / train_size\n",
    "        history['train_loss'].append(total_loss)\n",
    "        \n",
    "        # at end of epoch, report the evaluation\n",
    "        model.eval()  # Set model to evaluation mode\n",
    "        total_loss = 0.0\n",
    "    \n",
    "        with torch.no_grad():\n",
    "            for batch in tqdm(eval_dataloader, desc=f\"Evaluating {epoch}\", total=int(eval_size/BATCH_SIZE)+1, leave=False):\n",
    "                batch = tuple(s.to(device) for s in batch) # send to GPU\n",
    "                input_ids, input_mask, input_types, labels = batch\n",
    "            \n",
    "                output = model(input_ids, input_types, input_mask, labels=labels)\n",
    "                # calculate the total loff for the batch (per item)\n",
    "                total_loss += output.loss.item() * BATCH_SIZE\n",
    "            # after iterating through all, divide by total number of samples\n",
    "            total_loss = total_loss / eval_size\n",
    "            history['val_loss'].append(total_loss)\n",
    "        # print the eval loss in the progress bar for the epochs\n",
    "        pbar.set_postfix(loss=f\"{total_loss:.2f}\")\n"
   ]
  },
  {
   "cell_type": "code",
   "execution_count": 17,
   "id": "a5013a68-498f-49c3-8078-ee5fcf69c474",
   "metadata": {},
   "outputs": [
    {
     "data": {
      "application/vnd.jupyter.widget-view+json": {
       "model_id": "a70128fc931a4cbb8686bedbe29aa9c2",
       "version_major": 2,
       "version_minor": 0
      },
      "text/plain": [
       "Evaluating:   0%|          | 0/142 [00:00<?, ?it/s]"
      ]
     },
     "metadata": {},
     "output_type": "display_data"
    }
   ],
   "source": [
    "all_preds = []\n",
    "all_labels = []\n",
    "\n",
    "model.eval() # set model to evalaution mode (no dropout, etc.)\n",
    "\n",
    "# run the evaluation without tracking gradient operations\n",
    "with torch.no_grad():\n",
    "    for batch in tqdm(eval_dataloader,desc=\"Evaluating\", total=int(eval_size/BATCH_SIZE)+1):\n",
    "        \n",
    "        batch = tuple(s.to(device) for s in batch) # send to GPU\n",
    "        input_ids, input_mask, input_types, labels = batch\n",
    "        \n",
    "        output = model(input_ids, input_types, input_mask, labels=None)\n",
    "\n",
    "        # save these model outputs as numpy arrays.\n",
    "        # 1. We need to detach the tensors from the computation graph\n",
    "        # 2. then copy the tensor over to the cpu (from the GPU)\n",
    "        # 3. then convert to numpy\n",
    "        # 4. save this numpy vector in a list of other vectors\n",
    "        # we will stack the vectors from the list into one big numpy vector later on\n",
    "        all_preds.append(  output.logits.detach().cpu().numpy() )\n",
    "        all_labels.append( labels.cpu().numpy() )"
   ]
  },
  {
   "cell_type": "code",
   "execution_count": 18,
   "id": "7527eab2-c5e3-4ca2-83bc-e7f5a2b103ce",
   "metadata": {},
   "outputs": [
    {
     "name": "stdout",
     "output_type": "stream",
     "text": [
      "0.4078656650463986\n"
     ]
    },
    {
     "data": {
      "image/png": "[encoded data removed]",
      "text/plain": [
       "<Figure size 640x480 with 1 Axes>"
      ]
     },
     "metadata": {},
     "output_type": "display_data"
    }
   ],
   "source": [
    "from sklearn.metrics import accuracy_score\n",
    "\n",
    "# combine the individual batched outputs and argmax for the predictions\n",
    "\n",
    "# stack lable array into vector of class index, [0, 5, 19, ... , 12, 13]\n",
    "labels_array = np.hstack(all_labels)\n",
    "# stack each prediction into matrix where row=[net outpu array] and col=[each class probaability]\n",
    "# take argmax across each netowrk output (row) to collapse these into a vector of int classes [1, 5, 19, ... , 11, 13]\n",
    "preds_array = np.argmax(np.vstack(all_preds), axis=1)\n",
    "\n",
    "# now that the preds and labels are in a similar format, we can compare with sklearn metrics\n",
    "print(accuracy_score(labels_array, preds_array))\n",
    "\n",
    "plt.plot(history['train_loss'], label='train')\n",
    "plt.plot(history['val_loss'], label='val')\n",
    "plt.legend()\n",
    "plt.show()"
   ]
  },
  {
   "cell_type": "code",
   "execution_count": null,
   "id": "fa2f0932-d322-41c3-8527-c96fa4073df5",
   "metadata": {},
   "outputs": [],
   "source": []
  },
  {
   "cell_type": "code",
   "execution_count": 19,
   "id": "708ceb0c-ee75-4bdb-83c8-6f9a80a90f99",
   "metadata": {},
   "outputs": [
    {
     "data": {
      "text/plain": [
       "BertLayer(\n",
       "  (attention): BertAttention(\n",
       "    (self): BertSdpaSelfAttention(\n",
       "      (query): Linear(in_features=768, out_features=768, bias=True)\n",
       "      (key): Linear(in_features=768, out_features=768, bias=True)\n",
       "      (value): Linear(in_features=768, out_features=768, bias=True)\n",
       "      (dropout): Dropout(p=0.1, inplace=False)\n",
       "    )\n",
       "    (output): BertSelfOutput(\n",
       "      (dense): Linear(in_features=768, out_features=768, bias=True)\n",
       "      (LayerNorm): LayerNorm((768,), eps=1e-12, elementwise_affine=True)\n",
       "      (dropout): Dropout(p=0.1, inplace=False)\n",
       "    )\n",
       "  )\n",
       "  (intermediate): BertIntermediate(\n",
       "    (dense): Linear(in_features=768, out_features=3072, bias=True)\n",
       "    (intermediate_act_fn): GELUActivation()\n",
       "  )\n",
       "  (output): BertOutput(\n",
       "    (dense): Linear(in_features=3072, out_features=768, bias=True)\n",
       "    (LayerNorm): LayerNorm((768,), eps=1e-12, elementwise_affine=True)\n",
       "    (dropout): Dropout(p=0.1, inplace=False)\n",
       "  )\n",
       ")"
      ]
     },
     "execution_count": 19,
     "metadata": {},
     "output_type": "execute_result"
    }
   ],
   "source": [
    "# access the final layer of BERT, before the pooler\n",
    "# we will use only the final pooling layer\n",
    "model.bert.encoder.layer[-1]"
   ]
  },
  {
   "cell_type": "code",
   "execution_count": 20,
   "id": "27a41310-06ea-4068-af88-a48a319397c6",
   "metadata": {},
   "outputs": [
    {
     "data": {
      "application/vnd.jupyter.widget-view+json": {
       "model_id": "bda2144f96824fa9a4a5527fb876b6af",
       "version_major": 2,
       "version_minor": 0
      },
      "text/plain": [
       "Epoch:   0%|          | 0/100 [00:00<?, ?it/s]"
      ]
     },
     "metadata": {},
     "output_type": "display_data"
    },
    {
     "data": {
      "application/vnd.jupyter.widget-view+json": {
       "model_id": "",
       "version_major": 2,
       "version_minor": 0
      },
      "text/plain": [
       "Training 0:   0%|          | 0/566 [00:00<?, ?it/s]"
      ]
     },
     "metadata": {},
     "output_type": "display_data"
    },
    {
     "data": {
      "application/vnd.jupyter.widget-view+json": {
       "model_id": "",
       "version_major": 2,
       "version_minor": 0
      },
      "text/plain": [
       "Evaluating 0:   0%|          | 0/142 [00:00<?, ?it/s]"
      ]
     },
     "metadata": {},
     "output_type": "display_data"
    },
    {
     "data": {
      "application/vnd.jupyter.widget-view+json": {
       "model_id": "",
       "version_major": 2,
       "version_minor": 0
      },
      "text/plain": [
       "Training 1:   0%|          | 0/566 [00:00<?, ?it/s]"
      ]
     },
     "metadata": {},
     "output_type": "display_data"
    },
    {
     "data": {
      "application/vnd.jupyter.widget-view+json": {
       "model_id": "",
       "version_major": 2,
       "version_minor": 0
      },
      "text/plain": [
       "Evaluating 1:   0%|          | 0/142 [00:00<?, ?it/s]"
      ]
     },
     "metadata": {},
     "output_type": "display_data"
    },
    {
     "data": {
      "application/vnd.jupyter.widget-view+json": {
       "model_id": "",
       "version_major": 2,
       "version_minor": 0
      },
      "text/plain": [
       "Training 2:   0%|          | 0/566 [00:00<?, ?it/s]"
      ]
     },
     "metadata": {},
     "output_type": "display_data"
    },
    {
     "data": {
      "application/vnd.jupyter.widget-view+json": {
       "model_id": "",
       "version_major": 2,
       "version_minor": 0
      },
      "text/plain": [
       "Evaluating 2:   0%|          | 0/142 [00:00<?, ?it/s]"
      ]
     },
     "metadata": {},
     "output_type": "display_data"
    },
    {
     "data": {
      "application/vnd.jupyter.widget-view+json": {
       "model_id": "",
       "version_major": 2,
       "version_minor": 0
      },
      "text/plain": [
       "Training 3:   0%|          | 0/566 [00:00<?, ?it/s]"
      ]
     },
     "metadata": {},
     "output_type": "display_data"
    },
    {
     "data": {
      "application/vnd.jupyter.widget-view+json": {
       "model_id": "",
       "version_major": 2,
       "version_minor": 0
      },
      "text/plain": [
       "Evaluating 3:   0%|          | 0/142 [00:00<?, ?it/s]"
      ]
     },
     "metadata": {},
     "output_type": "display_data"
    },
    {
     "data": {
      "application/vnd.jupyter.widget-view+json": {
       "model_id": "",
       "version_major": 2,
       "version_minor": 0
      },
      "text/plain": [
       "Training 4:   0%|          | 0/566 [00:00<?, ?it/s]"
      ]
     },
     "metadata": {},
     "output_type": "display_data"
    },
    {
     "data": {
      "application/vnd.jupyter.widget-view+json": {
       "model_id": "",
       "version_major": 2,
       "version_minor": 0
      },
      "text/plain": [
       "Evaluating 4:   0%|          | 0/142 [00:00<?, ?it/s]"
      ]
     },
     "metadata": {},
     "output_type": "display_data"
    },
    {
     "data": {
      "application/vnd.jupyter.widget-view+json": {
       "model_id": "",
       "version_major": 2,
       "version_minor": 0
      },
      "text/plain": [
       "Training 5:   0%|          | 0/566 [00:00<?, ?it/s]"
      ]
     },
     "metadata": {},
     "output_type": "display_data"
    },
    {
     "data": {
      "application/vnd.jupyter.widget-view+json": {
       "model_id": "",
       "version_major": 2,
       "version_minor": 0
      },
      "text/plain": [
       "Evaluating 5:   0%|          | 0/142 [00:00<?, ?it/s]"
      ]
     },
     "metadata": {},
     "output_type": "display_data"
    },
    {
     "data": {
      "application/vnd.jupyter.widget-view+json": {
       "model_id": "",
       "version_major": 2,
       "version_minor": 0
      },
      "text/plain": [
       "Training 6:   0%|          | 0/566 [00:00<?, ?it/s]"
      ]
     },
     "metadata": {},
     "output_type": "display_data"
    },
    {
     "data": {
      "application/vnd.jupyter.widget-view+json": {
       "model_id": "",
       "version_major": 2,
       "version_minor": 0
      },
      "text/plain": [
       "Evaluating 6:   0%|          | 0/142 [00:00<?, ?it/s]"
      ]
     },
     "metadata": {},
     "output_type": "display_data"
    },
    {
     "data": {
      "application/vnd.jupyter.widget-view+json": {
       "model_id": "",
       "version_major": 2,
       "version_minor": 0
      },
      "text/plain": [
       "Training 7:   0%|          | 0/566 [00:00<?, ?it/s]"
      ]
     },
     "metadata": {},
     "output_type": "display_data"
    },
    {
     "data": {
      "application/vnd.jupyter.widget-view+json": {
       "model_id": "",
       "version_major": 2,
       "version_minor": 0
      },
      "text/plain": [
       "Evaluating 7:   0%|          | 0/142 [00:00<?, ?it/s]"
      ]
     },
     "metadata": {},
     "output_type": "display_data"
    },
    {
     "data": {
      "application/vnd.jupyter.widget-view+json": {
       "model_id": "",
       "version_major": 2,
       "version_minor": 0
      },
      "text/plain": [
       "Training 8:   0%|          | 0/566 [00:00<?, ?it/s]"
      ]
     },
     "metadata": {},
     "output_type": "display_data"
    },
    {
     "data": {
      "application/vnd.jupyter.widget-view+json": {
       "model_id": "",
       "version_major": 2,
       "version_minor": 0
      },
      "text/plain": [
       "Evaluating 8:   0%|          | 0/142 [00:00<?, ?it/s]"
      ]
     },
     "metadata": {},
     "output_type": "display_data"
    },
    {
     "data": {
      "application/vnd.jupyter.widget-view+json": {
       "model_id": "",
       "version_major": 2,
       "version_minor": 0
      },
      "text/plain": [
       "Training 9:   0%|          | 0/566 [00:00<?, ?it/s]"
      ]
     },
     "metadata": {},
     "output_type": "display_data"
    },
    {
     "data": {
      "application/vnd.jupyter.widget-view+json": {
       "model_id": "",
       "version_major": 2,
       "version_minor": 0
      },
      "text/plain": [
       "Evaluating 9:   0%|          | 0/142 [00:00<?, ?it/s]"
      ]
     },
     "metadata": {},
     "output_type": "display_data"
    },
    {
     "data": {
      "application/vnd.jupyter.widget-view+json": {
       "model_id": "",
       "version_major": 2,
       "version_minor": 0
      },
      "text/plain": [
       "Training 10:   0%|          | 0/566 [00:00<?, ?it/s]"
      ]
     },
     "metadata": {},
     "output_type": "display_data"
    },
    {
     "data": {
      "application/vnd.jupyter.widget-view+json": {
       "model_id": "",
       "version_major": 2,
       "version_minor": 0
      },
      "text/plain": [
       "Evaluating 10:   0%|          | 0/142 [00:00<?, ?it/s]"
      ]
     },
     "metadata": {},
     "output_type": "display_data"
    },
    {
     "data": {
      "application/vnd.jupyter.widget-view+json": {
       "model_id": "",
       "version_major": 2,
       "version_minor": 0
      },
      "text/plain": [
       "Training 11:   0%|          | 0/566 [00:00<?, ?it/s]"
      ]
     },
     "metadata": {},
     "output_type": "display_data"
    },
    {
     "data": {
      "application/vnd.jupyter.widget-view+json": {
       "model_id": "",
       "version_major": 2,
       "version_minor": 0
      },
      "text/plain": [
       "Evaluating 11:   0%|          | 0/142 [00:00<?, ?it/s]"
      ]
     },
     "metadata": {},
     "output_type": "display_data"
    },
    {
     "data": {
      "application/vnd.jupyter.widget-view+json": {
       "model_id": "",
       "version_major": 2,
       "version_minor": 0
      },
      "text/plain": [
       "Training 12:   0%|          | 0/566 [00:00<?, ?it/s]"
      ]
     },
     "metadata": {},
     "output_type": "display_data"
    },
    {
     "data": {
      "application/vnd.jupyter.widget-view+json": {
       "model_id": "",
       "version_major": 2,
       "version_minor": 0
      },
      "text/plain": [
       "Evaluating 12:   0%|          | 0/142 [00:00<?, ?it/s]"
      ]
     },
     "metadata": {},
     "output_type": "display_data"
    },
    {
     "data": {
      "application/vnd.jupyter.widget-view+json": {
       "model_id": "",
       "version_major": 2,
       "version_minor": 0
      },
      "text/plain": [
       "Training 13:   0%|          | 0/566 [00:00<?, ?it/s]"
      ]
     },
     "metadata": {},
     "output_type": "display_data"
    },
    {
     "data": {
      "application/vnd.jupyter.widget-view+json": {
       "model_id": "",
       "version_major": 2,
       "version_minor": 0
      },
      "text/plain": [
       "Evaluating 13:   0%|          | 0/142 [00:00<?, ?it/s]"
      ]
     },
     "metadata": {},
     "output_type": "display_data"
    },
    {
     "data": {
      "application/vnd.jupyter.widget-view+json": {
       "model_id": "",
       "version_major": 2,
       "version_minor": 0
      },
      "text/plain": [
       "Training 14:   0%|          | 0/566 [00:00<?, ?it/s]"
      ]
     },
     "metadata": {},
     "output_type": "display_data"
    },
    {
     "data": {
      "application/vnd.jupyter.widget-view+json": {
       "model_id": "",
       "version_major": 2,
       "version_minor": 0
      },
      "text/plain": [
       "Evaluating 14:   0%|          | 0/142 [00:00<?, ?it/s]"
      ]
     },
     "metadata": {},
     "output_type": "display_data"
    },
    {
     "data": {
      "application/vnd.jupyter.widget-view+json": {
       "model_id": "",
       "version_major": 2,
       "version_minor": 0
      },
      "text/plain": [
       "Training 15:   0%|          | 0/566 [00:00<?, ?it/s]"
      ]
     },
     "metadata": {},
     "output_type": "display_data"
    },
    {
     "data": {
      "application/vnd.jupyter.widget-view+json": {
       "model_id": "",
       "version_major": 2,
       "version_minor": 0
      },
      "text/plain": [
       "Evaluating 15:   0%|          | 0/142 [00:00<?, ?it/s]"
      ]
     },
     "metadata": {},
     "output_type": "display_data"
    },
    {
     "data": {
      "application/vnd.jupyter.widget-view+json": {
       "model_id": "",
       "version_major": 2,
       "version_minor": 0
      },
      "text/plain": [
       "Training 16:   0%|          | 0/566 [00:00<?, ?it/s]"
      ]
     },
     "metadata": {},
     "output_type": "display_data"
    },
    {
     "data": {
      "application/vnd.jupyter.widget-view+json": {
       "model_id": "",
       "version_major": 2,
       "version_minor": 0
      },
      "text/plain": [
       "Evaluating 16:   0%|          | 0/142 [00:00<?, ?it/s]"
      ]
     },
     "metadata": {},
     "output_type": "display_data"
    },
    {
     "data": {
      "application/vnd.jupyter.widget-view+json": {
       "model_id": "",
       "version_major": 2,
       "version_minor": 0
      },
      "text/plain": [
       "Training 17:   0%|          | 0/566 [00:00<?, ?it/s]"
      ]
     },
     "metadata": {},
     "output_type": "display_data"
    },
    {
     "data": {
      "application/vnd.jupyter.widget-view+json": {
       "model_id": "",
       "version_major": 2,
       "version_minor": 0
      },
      "text/plain": [
       "Evaluating 17:   0%|          | 0/142 [00:00<?, ?it/s]"
      ]
     },
     "metadata": {},
     "output_type": "display_data"
    },
    {
     "data": {
      "application/vnd.jupyter.widget-view+json": {
       "model_id": "",
       "version_major": 2,
       "version_minor": 0
      },
      "text/plain": [
       "Training 18:   0%|          | 0/566 [00:00<?, ?it/s]"
      ]
     },
     "metadata": {},
     "output_type": "display_data"
    },
    {
     "data": {
      "application/vnd.jupyter.widget-view+json": {
       "model_id": "",
       "version_major": 2,
       "version_minor": 0
      },
      "text/plain": [
       "Evaluating 18:   0%|          | 0/142 [00:00<?, ?it/s]"
      ]
     },
     "metadata": {},
     "output_type": "display_data"
    },
    {
     "data": {
      "application/vnd.jupyter.widget-view+json": {
       "model_id": "",
       "version_major": 2,
       "version_minor": 0
      },
      "text/plain": [
       "Training 19:   0%|          | 0/566 [00:00<?, ?it/s]"
      ]
     },
     "metadata": {},
     "output_type": "display_data"
    },
    {
     "data": {
      "application/vnd.jupyter.widget-view+json": {
       "model_id": "",
       "version_major": 2,
       "version_minor": 0
      },
      "text/plain": [
       "Evaluating 19:   0%|          | 0/142 [00:00<?, ?it/s]"
      ]
     },
     "metadata": {},
     "output_type": "display_data"
    },
    {
     "data": {
      "application/vnd.jupyter.widget-view+json": {
       "model_id": "",
       "version_major": 2,
       "version_minor": 0
      },
      "text/plain": [
       "Training 20:   0%|          | 0/566 [00:00<?, ?it/s]"
      ]
     },
     "metadata": {},
     "output_type": "display_data"
    },
    {
     "data": {
      "application/vnd.jupyter.widget-view+json": {
       "model_id": "",
       "version_major": 2,
       "version_minor": 0
      },
      "text/plain": [
       "Evaluating 20:   0%|          | 0/142 [00:00<?, ?it/s]"
      ]
     },
     "metadata": {},
     "output_type": "display_data"
    },
    {
     "data": {
      "application/vnd.jupyter.widget-view+json": {
       "model_id": "",
       "version_major": 2,
       "version_minor": 0
      },
      "text/plain": [
       "Training 21:   0%|          | 0/566 [00:00<?, ?it/s]"
      ]
     },
     "metadata": {},
     "output_type": "display_data"
    },
    {
     "data": {
      "application/vnd.jupyter.widget-view+json": {
       "model_id": "",
       "version_major": 2,
       "version_minor": 0
      },
      "text/plain": [
       "Evaluating 21:   0%|          | 0/142 [00:00<?, ?it/s]"
      ]
     },
     "metadata": {},
     "output_type": "display_data"
    },
    {
     "data": {
      "application/vnd.jupyter.widget-view+json": {
       "model_id": "",
       "version_major": 2,
       "version_minor": 0
      },
      "text/plain": [
       "Training 22:   0%|          | 0/566 [00:00<?, ?it/s]"
      ]
     },
     "metadata": {},
     "output_type": "display_data"
    },
    {
     "data": {
      "application/vnd.jupyter.widget-view+json": {
       "model_id": "",
       "version_major": 2,
       "version_minor": 0
      },
      "text/plain": [
       "Evaluating 22:   0%|          | 0/142 [00:00<?, ?it/s]"
      ]
     },
     "metadata": {},
     "output_type": "display_data"
    },
    {
     "data": {
      "application/vnd.jupyter.widget-view+json": {
       "model_id": "",
       "version_major": 2,
       "version_minor": 0
      },
      "text/plain": [
       "Training 23:   0%|          | 0/566 [00:00<?, ?it/s]"
      ]
     },
     "metadata": {},
     "output_type": "display_data"
    },
    {
     "data": {
      "application/vnd.jupyter.widget-view+json": {
       "model_id": "",
       "version_major": 2,
       "version_minor": 0
      },
      "text/plain": [
       "Evaluating 23:   0%|          | 0/142 [00:00<?, ?it/s]"
      ]
     },
     "metadata": {},
     "output_type": "display_data"
    },
    {
     "data": {
      "application/vnd.jupyter.widget-view+json": {
       "model_id": "",
       "version_major": 2,
       "version_minor": 0
      },
      "text/plain": [
       "Training 24:   0%|          | 0/566 [00:00<?, ?it/s]"
      ]
     },
     "metadata": {},
     "output_type": "display_data"
    },
    {
     "data": {
      "application/vnd.jupyter.widget-view+json": {
       "model_id": "12d87b1e605d4bf4af413e2a27f6162d",
       "version_major": 2,
       "version_minor": 0
      },
      "text/plain": [
       "Evaluating 24:   0%|          | 0/142 [00:00<?, ?it/s]"
      ]
     },
     "metadata": {},
     "output_type": "display_data"
    },
    {
     "data": {
      "application/vnd.jupyter.widget-view+json": {
       "model_id": "dfa8ee3073df4e88bbf76cb8fbf323c1",
       "version_major": 2,
       "version_minor": 0
      },
      "text/plain": [
       "Training 25:   0%|          | 0/566 [00:00<?, ?it/s]"
      ]
     },
     "metadata": {},
     "output_type": "display_data"
    },
    {
     "data": {
      "application/vnd.jupyter.widget-view+json": {
       "model_id": "2345b1caaa094b9dba8352a8bcac7e9c",
       "version_major": 2,
       "version_minor": 0
      },
      "text/plain": [
       "Evaluating 25:   0%|          | 0/142 [00:00<?, ?it/s]"
      ]
     },
     "metadata": {},
     "output_type": "display_data"
    },
    {
     "data": {
      "application/vnd.jupyter.widget-view+json": {
       "model_id": "25aaf4a15a7240f9ae6debb5941022e0",
       "version_major": 2,
       "version_minor": 0
      },
      "text/plain": [
       "Training 26:   0%|          | 0/566 [00:00<?, ?it/s]"
      ]
     },
     "metadata": {},
     "output_type": "display_data"
    },
    {
     "data": {
      "application/vnd.jupyter.widget-view+json": {
       "model_id": "012abec1ef18467199071e7bbdf62844",
       "version_major": 2,
       "version_minor": 0
      },
      "text/plain": [
       "Evaluating 26:   0%|          | 0/142 [00:00<?, ?it/s]"
      ]
     },
     "metadata": {},
     "output_type": "display_data"
    },
    {
     "data": {
      "application/vnd.jupyter.widget-view+json": {
       "model_id": "5e9b808a96314c4e9bc7c1d5f28e9994",
       "version_major": 2,
       "version_minor": 0
      },
      "text/plain": [
       "Training 27:   0%|          | 0/566 [00:00<?, ?it/s]"
      ]
     },
     "metadata": {},
     "output_type": "display_data"
    },
    {
     "data": {
      "application/vnd.jupyter.widget-view+json": {
       "model_id": "c3867b37a8084560bacb8ed67d166997",
       "version_major": 2,
       "version_minor": 0
      },
      "text/plain": [
       "Evaluating 27:   0%|          | 0/142 [00:00<?, ?it/s]"
      ]
     },
     "metadata": {},
     "output_type": "display_data"
    },
    {
     "data": {
      "application/vnd.jupyter.widget-view+json": {
       "model_id": "b566f89051d44c7392100db87a4c6f13",
       "version_major": 2,
       "version_minor": 0
      },
      "text/plain": [
       "Training 28:   0%|          | 0/566 [00:00<?, ?it/s]"
      ]
     },
     "metadata": {},
     "output_type": "display_data"
    },
    {
     "data": {
      "application/vnd.jupyter.widget-view+json": {
       "model_id": "f242fdac8c8f4ae1bed58603bee80129",
       "version_major": 2,
       "version_minor": 0
      },
      "text/plain": [
       "Evaluating 28:   0%|          | 0/142 [00:00<?, ?it/s]"
      ]
     },
     "metadata": {},
     "output_type": "display_data"
    },
    {
     "data": {
      "application/vnd.jupyter.widget-view+json": {
       "model_id": "4663675a98604db1b52a81d3aa5954ec",
       "version_major": 2,
       "version_minor": 0
      },
      "text/plain": [
       "Training 29:   0%|          | 0/566 [00:00<?, ?it/s]"
      ]
     },
     "metadata": {},
     "output_type": "display_data"
    },
    {
     "data": {
      "application/vnd.jupyter.widget-view+json": {
       "model_id": "5fa8afbe06d54861abaf665081e2f34f",
       "version_major": 2,
       "version_minor": 0
      },
      "text/plain": [
       "Evaluating 29:   0%|          | 0/142 [00:00<?, ?it/s]"
      ]
     },
     "metadata": {},
     "output_type": "display_data"
    },
    {
     "data": {
      "application/vnd.jupyter.widget-view+json": {
       "model_id": "591c1b5b1d114f02959eb8faa1945ba6",
       "version_major": 2,
       "version_minor": 0
      },
      "text/plain": [
       "Training 30:   0%|          | 0/566 [00:00<?, ?it/s]"
      ]
     },
     "metadata": {},
     "output_type": "display_data"
    },
    {
     "data": {
      "application/vnd.jupyter.widget-view+json": {
       "model_id": "2a64afc08c7742e590f112ba2e899366",
       "version_major": 2,
       "version_minor": 0
      },
      "text/plain": [
       "Evaluating 30:   0%|          | 0/142 [00:00<?, ?it/s]"
      ]
     },
     "metadata": {},
     "output_type": "display_data"
    },
    {
     "data": {
      "application/vnd.jupyter.widget-view+json": {
       "model_id": "af60cc835535484b926ac61ac9a0439d",
       "version_major": 2,
       "version_minor": 0
      },
      "text/plain": [
       "Training 31:   0%|          | 0/566 [00:00<?, ?it/s]"
      ]
     },
     "metadata": {},
     "output_type": "display_data"
    },
    {
     "data": {
      "application/vnd.jupyter.widget-view+json": {
       "model_id": "58031c669eeb45708c0d49f4d3fd8154",
       "version_major": 2,
       "version_minor": 0
      },
      "text/plain": [
       "Evaluating 31:   0%|          | 0/142 [00:00<?, ?it/s]"
      ]
     },
     "metadata": {},
     "output_type": "display_data"
    },
    {
     "data": {
      "application/vnd.jupyter.widget-view+json": {
       "model_id": "d5d2391db2b74db4ab260b060d5bba38",
       "version_major": 2,
       "version_minor": 0
      },
      "text/plain": [
       "Training 32:   0%|          | 0/566 [00:00<?, ?it/s]"
      ]
     },
     "metadata": {},
     "output_type": "display_data"
    },
    {
     "data": {
      "application/vnd.jupyter.widget-view+json": {
       "model_id": "ab800ec5214748c9971ec496eb84bdd7",
       "version_major": 2,
       "version_minor": 0
      },
      "text/plain": [
       "Evaluating 32:   0%|          | 0/142 [00:00<?, ?it/s]"
      ]
     },
     "metadata": {},
     "output_type": "display_data"
    },
    {
     "data": {
      "application/vnd.jupyter.widget-view+json": {
       "model_id": "1095eddc185140d6a90a8bb05afe3018",
       "version_major": 2,
       "version_minor": 0
      },
      "text/plain": [
       "Training 33:   0%|          | 0/566 [00:00<?, ?it/s]"
      ]
     },
     "metadata": {},
     "output_type": "display_data"
    },
    {
     "data": {
      "application/vnd.jupyter.widget-view+json": {
       "model_id": "739a781a99044c8099aabc005e5ce352",
       "version_major": 2,
       "version_minor": 0
      },
      "text/plain": [
       "Evaluating 33:   0%|          | 0/142 [00:00<?, ?it/s]"
      ]
     },
     "metadata": {},
     "output_type": "display_data"
    },
    {
     "data": {
      "application/vnd.jupyter.widget-view+json": {
       "model_id": "21d20708a5b84331a0be4a13fa8c6137",
       "version_major": 2,
       "version_minor": 0
      },
      "text/plain": [
       "Training 34:   0%|          | 0/566 [00:00<?, ?it/s]"
      ]
     },
     "metadata": {},
     "output_type": "display_data"
    },
    {
     "data": {
      "application/vnd.jupyter.widget-view+json": {
       "model_id": "f959a18a568e4fc9ba8e30bc59824a7d",
       "version_major": 2,
       "version_minor": 0
      },
      "text/plain": [
       "Evaluating 34:   0%|          | 0/142 [00:00<?, ?it/s]"
      ]
     },
     "metadata": {},
     "output_type": "display_data"
    },
    {
     "data": {
      "application/vnd.jupyter.widget-view+json": {
       "model_id": "2bfda860a79142d888babaf5d7cfcbb3",
       "version_major": 2,
       "version_minor": 0
      },
      "text/plain": [
       "Training 35:   0%|          | 0/566 [00:00<?, ?it/s]"
      ]
     },
     "metadata": {},
     "output_type": "display_data"
    },
    {
     "data": {
      "application/vnd.jupyter.widget-view+json": {
       "model_id": "12dca179b9cd45c5a0bc0a2b6e8fd3dc",
       "version_major": 2,
       "version_minor": 0
      },
      "text/plain": [
       "Evaluating 35:   0%|          | 0/142 [00:00<?, ?it/s]"
      ]
     },
     "metadata": {},
     "output_type": "display_data"
    },
    {
     "data": {
      "application/vnd.jupyter.widget-view+json": {
       "model_id": "c8bfa04fb9684434a2c642d262c88ff8",
       "version_major": 2,
       "version_minor": 0
      },
      "text/plain": [
       "Training 36:   0%|          | 0/566 [00:00<?, ?it/s]"
      ]
     },
     "metadata": {},
     "output_type": "display_data"
    },
    {
     "data": {
      "application/vnd.jupyter.widget-view+json": {
       "model_id": "8a0ed202da904fc1907c71489294c76e",
       "version_major": 2,
       "version_minor": 0
      },
      "text/plain": [
       "Evaluating 36:   0%|          | 0/142 [00:00<?, ?it/s]"
      ]
     },
     "metadata": {},
     "output_type": "display_data"
    },
    {
     "data": {
      "application/vnd.jupyter.widget-view+json": {
       "model_id": "234fe8c7a32948ac8dfa7d77792f8319",
       "version_major": 2,
       "version_minor": 0
      },
      "text/plain": [
       "Training 37:   0%|          | 0/566 [00:00<?, ?it/s]"
      ]
     },
     "metadata": {},
     "output_type": "display_data"
    },
    {
     "data": {
      "application/vnd.jupyter.widget-view+json": {
       "model_id": "ee60c72bf2ef431298c884851d760619",
       "version_major": 2,
       "version_minor": 0
      },
      "text/plain": [
       "Evaluating 37:   0%|          | 0/142 [00:00<?, ?it/s]"
      ]
     },
     "metadata": {},
     "output_type": "display_data"
    },
    {
     "data": {
      "application/vnd.jupyter.widget-view+json": {
       "model_id": "61859441c11c4c989406c96bde6f748d",
       "version_major": 2,
       "version_minor": 0
      },
      "text/plain": [
       "Training 38:   0%|          | 0/566 [00:00<?, ?it/s]"
      ]
     },
     "metadata": {},
     "output_type": "display_data"
    },
    {
     "data": {
      "application/vnd.jupyter.widget-view+json": {
       "model_id": "1b6be507235f44fa8c187f985cbfb9fe",
       "version_major": 2,
       "version_minor": 0
      },
      "text/plain": [
       "Evaluating 38:   0%|          | 0/142 [00:00<?, ?it/s]"
      ]
     },
     "metadata": {},
     "output_type": "display_data"
    },
    {
     "data": {
      "application/vnd.jupyter.widget-view+json": {
       "model_id": "1cb9e7d90fec40d6a1dd71c764c86b25",
       "version_major": 2,
       "version_minor": 0
      },
      "text/plain": [
       "Training 39:   0%|          | 0/566 [00:00<?, ?it/s]"
      ]
     },
     "metadata": {},
     "output_type": "display_data"
    },
    {
     "data": {
      "application/vnd.jupyter.widget-view+json": {
       "model_id": "ab4c39045f344241b18e83e33226a449",
       "version_major": 2,
       "version_minor": 0
      },
      "text/plain": [
       "Evaluating 39:   0%|          | 0/142 [00:00<?, ?it/s]"
      ]
     },
     "metadata": {},
     "output_type": "display_data"
    },
    {
     "data": {
      "application/vnd.jupyter.widget-view+json": {
       "model_id": "95e628bab3e44dd18efef5de63cafe44",
       "version_major": 2,
       "version_minor": 0
      },
      "text/plain": [
       "Training 40:   0%|          | 0/566 [00:00<?, ?it/s]"
      ]
     },
     "metadata": {},
     "output_type": "display_data"
    },
    {
     "data": {
      "application/vnd.jupyter.widget-view+json": {
       "model_id": "b6a4810d3b92473eaf513ae9a1d5e56f",
       "version_major": 2,
       "version_minor": 0
      },
      "text/plain": [
       "Evaluating 40:   0%|          | 0/142 [00:00<?, ?it/s]"
      ]
     },
     "metadata": {},
     "output_type": "display_data"
    },
    {
     "data": {
      "application/vnd.jupyter.widget-view+json": {
       "model_id": "9d37ca6cf35043d28209c1305b41c6e7",
       "version_major": 2,
       "version_minor": 0
      },
      "text/plain": [
       "Training 41:   0%|          | 0/566 [00:00<?, ?it/s]"
      ]
     },
     "metadata": {},
     "output_type": "display_data"
    },
    {
     "data": {
      "application/vnd.jupyter.widget-view+json": {
       "model_id": "89b2d8f1e5324cc6acb8ddfc7ad77393",
       "version_major": 2,
       "version_minor": 0
      },
      "text/plain": [
       "Evaluating 41:   0%|          | 0/142 [00:00<?, ?it/s]"
      ]
     },
     "metadata": {},
     "output_type": "display_data"
    },
    {
     "data": {
      "application/vnd.jupyter.widget-view+json": {
       "model_id": "3fd81b7f320c4db3a0ebf096807f611d",
       "version_major": 2,
       "version_minor": 0
      },
      "text/plain": [
       "Training 42:   0%|          | 0/566 [00:00<?, ?it/s]"
      ]
     },
     "metadata": {},
     "output_type": "display_data"
    },
    {
     "data": {
      "application/vnd.jupyter.widget-view+json": {
       "model_id": "ff61be4b107a47a0adc901a9a5d8383a",
       "version_major": 2,
       "version_minor": 0
      },
      "text/plain": [
       "Evaluating 42:   0%|          | 0/142 [00:00<?, ?it/s]"
      ]
     },
     "metadata": {},
     "output_type": "display_data"
    },
    {
     "data": {
      "application/vnd.jupyter.widget-view+json": {
       "model_id": "c20c627bd839486eab680c365984bb22",
       "version_major": 2,
       "version_minor": 0
      },
      "text/plain": [
       "Training 43:   0%|          | 0/566 [00:00<?, ?it/s]"
      ]
     },
     "metadata": {},
     "output_type": "display_data"
    },
    {
     "data": {
      "application/vnd.jupyter.widget-view+json": {
       "model_id": "711766e27ff141d38bf8e9eeddc25dc5",
       "version_major": 2,
       "version_minor": 0
      },
      "text/plain": [
       "Evaluating 43:   0%|          | 0/142 [00:00<?, ?it/s]"
      ]
     },
     "metadata": {},
     "output_type": "display_data"
    },
    {
     "data": {
      "application/vnd.jupyter.widget-view+json": {
       "model_id": "2b4c4f854521499fbd3ad0fb9d24b591",
       "version_major": 2,
       "version_minor": 0
      },
      "text/plain": [
       "Training 44:   0%|          | 0/566 [00:00<?, ?it/s]"
      ]
     },
     "metadata": {},
     "output_type": "display_data"
    },
    {
     "data": {
      "application/vnd.jupyter.widget-view+json": {
       "model_id": "768d2c78a88d422cbb5632cd7b68e75e",
       "version_major": 2,
       "version_minor": 0
      },
      "text/plain": [
       "Evaluating 44:   0%|          | 0/142 [00:00<?, ?it/s]"
      ]
     },
     "metadata": {},
     "output_type": "display_data"
    },
    {
     "data": {
      "application/vnd.jupyter.widget-view+json": {
       "model_id": "072f30cb8dca41f8a0ab53c56922d4f4",
       "version_major": 2,
       "version_minor": 0
      },
      "text/plain": [
       "Training 45:   0%|          | 0/566 [00:00<?, ?it/s]"
      ]
     },
     "metadata": {},
     "output_type": "display_data"
    },
    {
     "data": {
      "application/vnd.jupyter.widget-view+json": {
       "model_id": "81b3b6f8f0844631b862fd3499901696",
       "version_major": 2,
       "version_minor": 0
      },
      "text/plain": [
       "Evaluating 45:   0%|          | 0/142 [00:00<?, ?it/s]"
      ]
     },
     "metadata": {},
     "output_type": "display_data"
    },
    {
     "data": {
      "application/vnd.jupyter.widget-view+json": {
       "model_id": "6dcdfe7a1e9447edb192320ff76891b9",
       "version_major": 2,
       "version_minor": 0
      },
      "text/plain": [
       "Training 46:   0%|          | 0/566 [00:00<?, ?it/s]"
      ]
     },
     "metadata": {},
     "output_type": "display_data"
    },
    {
     "data": {
      "application/vnd.jupyter.widget-view+json": {
       "model_id": "4f4ff849fb7742de8f326f37b16f8034",
       "version_major": 2,
       "version_minor": 0
      },
      "text/plain": [
       "Evaluating 46:   0%|          | 0/142 [00:00<?, ?it/s]"
      ]
     },
     "metadata": {},
     "output_type": "display_data"
    },
    {
     "data": {
      "application/vnd.jupyter.widget-view+json": {
       "model_id": "742381ec39cd4b5fa30810a190db0e18",
       "version_major": 2,
       "version_minor": 0
      },
      "text/plain": [
       "Training 47:   0%|          | 0/566 [00:00<?, ?it/s]"
      ]
     },
     "metadata": {},
     "output_type": "display_data"
    },
    {
     "data": {
      "application/vnd.jupyter.widget-view+json": {
       "model_id": "40b1d43e12c64283a6ea4a3e22333ea6",
       "version_major": 2,
       "version_minor": 0
      },
      "text/plain": [
       "Evaluating 47:   0%|          | 0/142 [00:00<?, ?it/s]"
      ]
     },
     "metadata": {},
     "output_type": "display_data"
    },
    {
     "data": {
      "application/vnd.jupyter.widget-view+json": {
       "model_id": "2d5119bb65674dba9aa623d1fe56c948",
       "version_major": 2,
       "version_minor": 0
      },
      "text/plain": [
       "Training 48:   0%|          | 0/566 [00:00<?, ?it/s]"
      ]
     },
     "metadata": {},
     "output_type": "display_data"
    },
    {
     "data": {
      "application/vnd.jupyter.widget-view+json": {
       "model_id": "118ae13b323c461b89c6d33f5bbcbeac",
       "version_major": 2,
       "version_minor": 0
      },
      "text/plain": [
       "Evaluating 48:   0%|          | 0/142 [00:00<?, ?it/s]"
      ]
     },
     "metadata": {},
     "output_type": "display_data"
    },
    {
     "data": {
      "application/vnd.jupyter.widget-view+json": {
       "model_id": "22cf6c9546e848b0be311a0189d154ad",
       "version_major": 2,
       "version_minor": 0
      },
      "text/plain": [
       "Training 49:   0%|          | 0/566 [00:00<?, ?it/s]"
      ]
     },
     "metadata": {},
     "output_type": "display_data"
    },
    {
     "data": {
      "application/vnd.jupyter.widget-view+json": {
       "model_id": "d5db3a8147fe4a309914369a74e54568",
       "version_major": 2,
       "version_minor": 0
      },
      "text/plain": [
       "Evaluating 49:   0%|          | 0/142 [00:00<?, ?it/s]"
      ]
     },
     "metadata": {},
     "output_type": "display_data"
    },
    {
     "data": {
      "application/vnd.jupyter.widget-view+json": {
       "model_id": "",
       "version_major": 2,
       "version_minor": 0
      },
      "text/plain": [
       "Training 50:   0%|          | 0/566 [00:00<?, ?it/s]"
      ]
     },
     "metadata": {},
     "output_type": "display_data"
    },
    {
     "data": {
      "application/vnd.jupyter.widget-view+json": {
       "model_id": "",
       "version_major": 2,
       "version_minor": 0
      },
      "text/plain": [
       "Evaluating 50:   0%|          | 0/142 [00:00<?, ?it/s]"
      ]
     },
     "metadata": {},
     "output_type": "display_data"
    },
    {
     "data": {
      "application/vnd.jupyter.widget-view+json": {
       "model_id": "",
       "version_major": 2,
       "version_minor": 0
      },
      "text/plain": [
       "Training 51:   0%|          | 0/566 [00:00<?, ?it/s]"
      ]
     },
     "metadata": {},
     "output_type": "display_data"
    },
    {
     "data": {
      "application/vnd.jupyter.widget-view+json": {
       "model_id": "",
       "version_major": 2,
       "version_minor": 0
      },
      "text/plain": [
       "Evaluating 51:   0%|          | 0/142 [00:00<?, ?it/s]"
      ]
     },
     "metadata": {},
     "output_type": "display_data"
    },
    {
     "data": {
      "application/vnd.jupyter.widget-view+json": {
       "model_id": "",
       "version_major": 2,
       "version_minor": 0
      },
      "text/plain": [
       "Training 52:   0%|          | 0/566 [00:00<?, ?it/s]"
      ]
     },
     "metadata": {},
     "output_type": "display_data"
    },
    {
     "data": {
      "application/vnd.jupyter.widget-view+json": {
       "model_id": "",
       "version_major": 2,
       "version_minor": 0
      },
      "text/plain": [
       "Evaluating 52:   0%|          | 0/142 [00:00<?, ?it/s]"
      ]
     },
     "metadata": {},
     "output_type": "display_data"
    },
    {
     "data": {
      "application/vnd.jupyter.widget-view+json": {
       "model_id": "",
       "version_major": 2,
       "version_minor": 0
      },
      "text/plain": [
       "Training 53:   0%|          | 0/566 [00:00<?, ?it/s]"
      ]
     },
     "metadata": {},
     "output_type": "display_data"
    },
    {
     "data": {
      "application/vnd.jupyter.widget-view+json": {
       "model_id": "",
       "version_major": 2,
       "version_minor": 0
      },
      "text/plain": [
       "Evaluating 53:   0%|          | 0/142 [00:00<?, ?it/s]"
      ]
     },
     "metadata": {},
     "output_type": "display_data"
    },
    {
     "data": {
      "application/vnd.jupyter.widget-view+json": {
       "model_id": "",
       "version_major": 2,
       "version_minor": 0
      },
      "text/plain": [
       "Training 54:   0%|          | 0/566 [00:00<?, ?it/s]"
      ]
     },
     "metadata": {},
     "output_type": "display_data"
    },
    {
     "data": {
      "application/vnd.jupyter.widget-view+json": {
       "model_id": "",
       "version_major": 2,
       "version_minor": 0
      },
      "text/plain": [
       "Evaluating 54:   0%|          | 0/142 [00:00<?, ?it/s]"
      ]
     },
     "metadata": {},
     "output_type": "display_data"
    },
    {
     "data": {
      "application/vnd.jupyter.widget-view+json": {
       "model_id": "",
       "version_major": 2,
       "version_minor": 0
      },
      "text/plain": [
       "Training 55:   0%|          | 0/566 [00:00<?, ?it/s]"
      ]
     },
     "metadata": {},
     "output_type": "display_data"
    },
    {
     "data": {
      "application/vnd.jupyter.widget-view+json": {
       "model_id": "",
       "version_major": 2,
       "version_minor": 0
      },
      "text/plain": [
       "Evaluating 55:   0%|          | 0/142 [00:00<?, ?it/s]"
      ]
     },
     "metadata": {},
     "output_type": "display_data"
    },
    {
     "data": {
      "application/vnd.jupyter.widget-view+json": {
       "model_id": "",
       "version_major": 2,
       "version_minor": 0
      },
      "text/plain": [
       "Training 56:   0%|          | 0/566 [00:00<?, ?it/s]"
      ]
     },
     "metadata": {},
     "output_type": "display_data"
    },
    {
     "data": {
      "application/vnd.jupyter.widget-view+json": {
       "model_id": "",
       "version_major": 2,
       "version_minor": 0
      },
      "text/plain": [
       "Evaluating 56:   0%|          | 0/142 [00:00<?, ?it/s]"
      ]
     },
     "metadata": {},
     "output_type": "display_data"
    },
    {
     "data": {
      "application/vnd.jupyter.widget-view+json": {
       "model_id": "",
       "version_major": 2,
       "version_minor": 0
      },
      "text/plain": [
       "Training 57:   0%|          | 0/566 [00:00<?, ?it/s]"
      ]
     },
     "metadata": {},
     "output_type": "display_data"
    },
    {
     "data": {
      "application/vnd.jupyter.widget-view+json": {
       "model_id": "",
       "version_major": 2,
       "version_minor": 0
      },
      "text/plain": [
       "Evaluating 57:   0%|          | 0/142 [00:00<?, ?it/s]"
      ]
     },
     "metadata": {},
     "output_type": "display_data"
    },
    {
     "data": {
      "application/vnd.jupyter.widget-view+json": {
       "model_id": "",
       "version_major": 2,
       "version_minor": 0
      },
      "text/plain": [
       "Training 58:   0%|          | 0/566 [00:00<?, ?it/s]"
      ]
     },
     "metadata": {},
     "output_type": "display_data"
    },
    {
     "data": {
      "application/vnd.jupyter.widget-view+json": {
       "model_id": "",
       "version_major": 2,
       "version_minor": 0
      },
      "text/plain": [
       "Evaluating 58:   0%|          | 0/142 [00:00<?, ?it/s]"
      ]
     },
     "metadata": {},
     "output_type": "display_data"
    },
    {
     "data": {
      "application/vnd.jupyter.widget-view+json": {
       "model_id": "",
       "version_major": 2,
       "version_minor": 0
      },
      "text/plain": [
       "Training 59:   0%|          | 0/566 [00:00<?, ?it/s]"
      ]
     },
     "metadata": {},
     "output_type": "display_data"
    },
    {
     "data": {
      "application/vnd.jupyter.widget-view+json": {
       "model_id": "",
       "version_major": 2,
       "version_minor": 0
      },
      "text/plain": [
       "Evaluating 59:   0%|          | 0/142 [00:00<?, ?it/s]"
      ]
     },
     "metadata": {},
     "output_type": "display_data"
    },
    {
     "data": {
      "application/vnd.jupyter.widget-view+json": {
       "model_id": "",
       "version_major": 2,
       "version_minor": 0
      },
      "text/plain": [
       "Training 60:   0%|          | 0/566 [00:00<?, ?it/s]"
      ]
     },
     "metadata": {},
     "output_type": "display_data"
    },
    {
     "data": {
      "application/vnd.jupyter.widget-view+json": {
       "model_id": "",
       "version_major": 2,
       "version_minor": 0
      },
      "text/plain": [
       "Evaluating 60:   0%|          | 0/142 [00:00<?, ?it/s]"
      ]
     },
     "metadata": {},
     "output_type": "display_data"
    },
    {
     "data": {
      "application/vnd.jupyter.widget-view+json": {
       "model_id": "",
       "version_major": 2,
       "version_minor": 0
      },
      "text/plain": [
       "Training 61:   0%|          | 0/566 [00:00<?, ?it/s]"
      ]
     },
     "metadata": {},
     "output_type": "display_data"
    },
    {
     "data": {
      "application/vnd.jupyter.widget-view+json": {
       "model_id": "",
       "version_major": 2,
       "version_minor": 0
      },
      "text/plain": [
       "Evaluating 61:   0%|          | 0/142 [00:00<?, ?it/s]"
      ]
     },
     "metadata": {},
     "output_type": "display_data"
    },
    {
     "data": {
      "application/vnd.jupyter.widget-view+json": {
       "model_id": "",
       "version_major": 2,
       "version_minor": 0
      },
      "text/plain": [
       "Training 62:   0%|          | 0/566 [00:00<?, ?it/s]"
      ]
     },
     "metadata": {},
     "output_type": "display_data"
    },
    {
     "data": {
      "application/vnd.jupyter.widget-view+json": {
       "model_id": "",
       "version_major": 2,
       "version_minor": 0
      },
      "text/plain": [
       "Evaluating 62:   0%|          | 0/142 [00:00<?, ?it/s]"
      ]
     },
     "metadata": {},
     "output_type": "display_data"
    },
    {
     "data": {
      "application/vnd.jupyter.widget-view+json": {
       "model_id": "",
       "version_major": 2,
       "version_minor": 0
      },
      "text/plain": [
       "Training 63:   0%|          | 0/566 [00:00<?, ?it/s]"
      ]
     },
     "metadata": {},
     "output_type": "display_data"
    },
    {
     "data": {
      "application/vnd.jupyter.widget-view+json": {
       "model_id": "",
       "version_major": 2,
       "version_minor": 0
      },
      "text/plain": [
       "Evaluating 63:   0%|          | 0/142 [00:00<?, ?it/s]"
      ]
     },
     "metadata": {},
     "output_type": "display_data"
    },
    {
     "data": {
      "application/vnd.jupyter.widget-view+json": {
       "model_id": "",
       "version_major": 2,
       "version_minor": 0
      },
      "text/plain": [
       "Training 64:   0%|          | 0/566 [00:00<?, ?it/s]"
      ]
     },
     "metadata": {},
     "output_type": "display_data"
    },
    {
     "data": {
      "application/vnd.jupyter.widget-view+json": {
       "model_id": "",
       "version_major": 2,
       "version_minor": 0
      },
      "text/plain": [
       "Evaluating 64:   0%|          | 0/142 [00:00<?, ?it/s]"
      ]
     },
     "metadata": {},
     "output_type": "display_data"
    },
    {
     "data": {
      "application/vnd.jupyter.widget-view+json": {
       "model_id": "",
       "version_major": 2,
       "version_minor": 0
      },
      "text/plain": [
       "Training 65:   0%|          | 0/566 [00:00<?, ?it/s]"
      ]
     },
     "metadata": {},
     "output_type": "display_data"
    },
    {
     "data": {
      "application/vnd.jupyter.widget-view+json": {
       "model_id": "",
       "version_major": 2,
       "version_minor": 0
      },
      "text/plain": [
       "Evaluating 65:   0%|          | 0/142 [00:00<?, ?it/s]"
      ]
     },
     "metadata": {},
     "output_type": "display_data"
    },
    {
     "data": {
      "application/vnd.jupyter.widget-view+json": {
       "model_id": "",
       "version_major": 2,
       "version_minor": 0
      },
      "text/plain": [
       "Training 66:   0%|          | 0/566 [00:00<?, ?it/s]"
      ]
     },
     "metadata": {},
     "output_type": "display_data"
    },
    {
     "data": {
      "application/vnd.jupyter.widget-view+json": {
       "model_id": "",
       "version_major": 2,
       "version_minor": 0
      },
      "text/plain": [
       "Evaluating 66:   0%|          | 0/142 [00:00<?, ?it/s]"
      ]
     },
     "metadata": {},
     "output_type": "display_data"
    },
    {
     "data": {
      "application/vnd.jupyter.widget-view+json": {
       "model_id": "",
       "version_major": 2,
       "version_minor": 0
      },
      "text/plain": [
       "Training 67:   0%|          | 0/566 [00:00<?, ?it/s]"
      ]
     },
     "metadata": {},
     "output_type": "display_data"
    },
    {
     "data": {
      "application/vnd.jupyter.widget-view+json": {
       "model_id": "",
       "version_major": 2,
       "version_minor": 0
      },
      "text/plain": [
       "Evaluating 67:   0%|          | 0/142 [00:00<?, ?it/s]"
      ]
     },
     "metadata": {},
     "output_type": "display_data"
    },
    {
     "data": {
      "application/vnd.jupyter.widget-view+json": {
       "model_id": "",
       "version_major": 2,
       "version_minor": 0
      },
      "text/plain": [
       "Training 68:   0%|          | 0/566 [00:00<?, ?it/s]"
      ]
     },
     "metadata": {},
     "output_type": "display_data"
    },
    {
     "data": {
      "application/vnd.jupyter.widget-view+json": {
       "model_id": "",
       "version_major": 2,
       "version_minor": 0
      },
      "text/plain": [
       "Evaluating 68:   0%|          | 0/142 [00:00<?, ?it/s]"
      ]
     },
     "metadata": {},
     "output_type": "display_data"
    },
    {
     "data": {
      "application/vnd.jupyter.widget-view+json": {
       "model_id": "",
       "version_major": 2,
       "version_minor": 0
      },
      "text/plain": [
       "Training 69:   0%|          | 0/566 [00:00<?, ?it/s]"
      ]
     },
     "metadata": {},
     "output_type": "display_data"
    },
    {
     "data": {
      "application/vnd.jupyter.widget-view+json": {
       "model_id": "",
       "version_major": 2,
       "version_minor": 0
      },
      "text/plain": [
       "Evaluating 69:   0%|          | 0/142 [00:00<?, ?it/s]"
      ]
     },
     "metadata": {},
     "output_type": "display_data"
    },
    {
     "data": {
      "application/vnd.jupyter.widget-view+json": {
       "model_id": "",
       "version_major": 2,
       "version_minor": 0
      },
      "text/plain": [
       "Training 70:   0%|          | 0/566 [00:00<?, ?it/s]"
      ]
     },
     "metadata": {},
     "output_type": "display_data"
    },
    {
     "data": {
      "application/vnd.jupyter.widget-view+json": {
       "model_id": "",
       "version_major": 2,
       "version_minor": 0
      },
      "text/plain": [
       "Evaluating 70:   0%|          | 0/142 [00:00<?, ?it/s]"
      ]
     },
     "metadata": {},
     "output_type": "display_data"
    },
    {
     "data": {
      "application/vnd.jupyter.widget-view+json": {
       "model_id": "",
       "version_major": 2,
       "version_minor": 0
      },
      "text/plain": [
       "Training 71:   0%|          | 0/566 [00:00<?, ?it/s]"
      ]
     },
     "metadata": {},
     "output_type": "display_data"
    },
    {
     "data": {
      "application/vnd.jupyter.widget-view+json": {
       "model_id": "",
       "version_major": 2,
       "version_minor": 0
      },
      "text/plain": [
       "Evaluating 71:   0%|          | 0/142 [00:00<?, ?it/s]"
      ]
     },
     "metadata": {},
     "output_type": "display_data"
    },
    {
     "data": {
      "application/vnd.jupyter.widget-view+json": {
       "model_id": "",
       "version_major": 2,
       "version_minor": 0
      },
      "text/plain": [
       "Training 72:   0%|          | 0/566 [00:00<?, ?it/s]"
      ]
     },
     "metadata": {},
     "output_type": "display_data"
    },
    {
     "data": {
      "application/vnd.jupyter.widget-view+json": {
       "model_id": "",
       "version_major": 2,
       "version_minor": 0
      },
      "text/plain": [
       "Evaluating 72:   0%|          | 0/142 [00:00<?, ?it/s]"
      ]
     },
     "metadata": {},
     "output_type": "display_data"
    },
    {
     "data": {
      "application/vnd.jupyter.widget-view+json": {
       "model_id": "",
       "version_major": 2,
       "version_minor": 0
      },
      "text/plain": [
       "Training 73:   0%|          | 0/566 [00:00<?, ?it/s]"
      ]
     },
     "metadata": {},
     "output_type": "display_data"
    },
    {
     "data": {
      "application/vnd.jupyter.widget-view+json": {
       "model_id": "",
       "version_major": 2,
       "version_minor": 0
      },
      "text/plain": [
       "Evaluating 73:   0%|          | 0/142 [00:00<?, ?it/s]"
      ]
     },
     "metadata": {},
     "output_type": "display_data"
    },
    {
     "data": {
      "application/vnd.jupyter.widget-view+json": {
       "model_id": "",
       "version_major": 2,
       "version_minor": 0
      },
      "text/plain": [
       "Training 74:   0%|          | 0/566 [00:00<?, ?it/s]"
      ]
     },
     "metadata": {},
     "output_type": "display_data"
    },
    {
     "data": {
      "application/vnd.jupyter.widget-view+json": {
       "model_id": "",
       "version_major": 2,
       "version_minor": 0
      },
      "text/plain": [
       "Evaluating 74:   0%|          | 0/142 [00:00<?, ?it/s]"
      ]
     },
     "metadata": {},
     "output_type": "display_data"
    },
    {
     "data": {
      "application/vnd.jupyter.widget-view+json": {
       "model_id": "",
       "version_major": 2,
       "version_minor": 0
      },
      "text/plain": [
       "Training 75:   0%|          | 0/566 [00:00<?, ?it/s]"
      ]
     },
     "metadata": {},
     "output_type": "display_data"
    },
    {
     "data": {
      "application/vnd.jupyter.widget-view+json": {
       "model_id": "",
       "version_major": 2,
       "version_minor": 0
      },
      "text/plain": [
       "Evaluating 75:   0%|          | 0/142 [00:00<?, ?it/s]"
      ]
     },
     "metadata": {},
     "output_type": "display_data"
    },
    {
     "data": {
      "application/vnd.jupyter.widget-view+json": {
       "model_id": "",
       "version_major": 2,
       "version_minor": 0
      },
      "text/plain": [
       "Training 76:   0%|          | 0/566 [00:00<?, ?it/s]"
      ]
     },
     "metadata": {},
     "output_type": "display_data"
    },
    {
     "data": {
      "application/vnd.jupyter.widget-view+json": {
       "model_id": "",
       "version_major": 2,
       "version_minor": 0
      },
      "text/plain": [
       "Evaluating 76:   0%|          | 0/142 [00:00<?, ?it/s]"
      ]
     },
     "metadata": {},
     "output_type": "display_data"
    },
    {
     "data": {
      "application/vnd.jupyter.widget-view+json": {
       "model_id": "",
       "version_major": 2,
       "version_minor": 0
      },
      "text/plain": [
       "Training 77:   0%|          | 0/566 [00:00<?, ?it/s]"
      ]
     },
     "metadata": {},
     "output_type": "display_data"
    },
    {
     "data": {
      "application/vnd.jupyter.widget-view+json": {
       "model_id": "",
       "version_major": 2,
       "version_minor": 0
      },
      "text/plain": [
       "Evaluating 77:   0%|          | 0/142 [00:00<?, ?it/s]"
      ]
     },
     "metadata": {},
     "output_type": "display_data"
    },
    {
     "data": {
      "application/vnd.jupyter.widget-view+json": {
       "model_id": "",
       "version_major": 2,
       "version_minor": 0
      },
      "text/plain": [
       "Training 78:   0%|          | 0/566 [00:00<?, ?it/s]"
      ]
     },
     "metadata": {},
     "output_type": "display_data"
    },
    {
     "data": {
      "application/vnd.jupyter.widget-view+json": {
       "model_id": "",
       "version_major": 2,
       "version_minor": 0
      },
      "text/plain": [
       "Evaluating 78:   0%|          | 0/142 [00:00<?, ?it/s]"
      ]
     },
     "metadata": {},
     "output_type": "display_data"
    },
    {
     "data": {
      "application/vnd.jupyter.widget-view+json": {
       "model_id": "",
       "version_major": 2,
       "version_minor": 0
      },
      "text/plain": [
       "Training 79:   0%|          | 0/566 [00:00<?, ?it/s]"
      ]
     },
     "metadata": {},
     "output_type": "display_data"
    },
    {
     "data": {
      "application/vnd.jupyter.widget-view+json": {
       "model_id": "",
       "version_major": 2,
       "version_minor": 0
      },
      "text/plain": [
       "Evaluating 79:   0%|          | 0/142 [00:00<?, ?it/s]"
      ]
     },
     "metadata": {},
     "output_type": "display_data"
    },
    {
     "data": {
      "application/vnd.jupyter.widget-view+json": {
       "model_id": "",
       "version_major": 2,
       "version_minor": 0
      },
      "text/plain": [
       "Training 80:   0%|          | 0/566 [00:00<?, ?it/s]"
      ]
     },
     "metadata": {},
     "output_type": "display_data"
    },
    {
     "data": {
      "application/vnd.jupyter.widget-view+json": {
       "model_id": "",
       "version_major": 2,
       "version_minor": 0
      },
      "text/plain": [
       "Evaluating 80:   0%|          | 0/142 [00:00<?, ?it/s]"
      ]
     },
     "metadata": {},
     "output_type": "display_data"
    },
    {
     "data": {
      "application/vnd.jupyter.widget-view+json": {
       "model_id": "",
       "version_major": 2,
       "version_minor": 0
      },
      "text/plain": [
       "Training 81:   0%|          | 0/566 [00:00<?, ?it/s]"
      ]
     },
     "metadata": {},
     "output_type": "display_data"
    },
    {
     "data": {
      "application/vnd.jupyter.widget-view+json": {
       "model_id": "",
       "version_major": 2,
       "version_minor": 0
      },
      "text/plain": [
       "Evaluating 81:   0%|          | 0/142 [00:00<?, ?it/s]"
      ]
     },
     "metadata": {},
     "output_type": "display_data"
    },
    {
     "data": {
      "application/vnd.jupyter.widget-view+json": {
       "model_id": "",
       "version_major": 2,
       "version_minor": 0
      },
      "text/plain": [
       "Training 82:   0%|          | 0/566 [00:00<?, ?it/s]"
      ]
     },
     "metadata": {},
     "output_type": "display_data"
    },
    {
     "data": {
      "application/vnd.jupyter.widget-view+json": {
       "model_id": "",
       "version_major": 2,
       "version_minor": 0
      },
      "text/plain": [
       "Evaluating 82:   0%|          | 0/142 [00:00<?, ?it/s]"
      ]
     },
     "metadata": {},
     "output_type": "display_data"
    },
    {
     "data": {
      "application/vnd.jupyter.widget-view+json": {
       "model_id": "",
       "version_major": 2,
       "version_minor": 0
      },
      "text/plain": [
       "Training 83:   0%|          | 0/566 [00:00<?, ?it/s]"
      ]
     },
     "metadata": {},
     "output_type": "display_data"
    },
    {
     "data": {
      "application/vnd.jupyter.widget-view+json": {
       "model_id": "",
       "version_major": 2,
       "version_minor": 0
      },
      "text/plain": [
       "Evaluating 83:   0%|          | 0/142 [00:00<?, ?it/s]"
      ]
     },
     "metadata": {},
     "output_type": "display_data"
    },
    {
     "data": {
      "application/vnd.jupyter.widget-view+json": {
       "model_id": "",
       "version_major": 2,
       "version_minor": 0
      },
      "text/plain": [
       "Training 84:   0%|          | 0/566 [00:00<?, ?it/s]"
      ]
     },
     "metadata": {},
     "output_type": "display_data"
    },
    {
     "data": {
      "application/vnd.jupyter.widget-view+json": {
       "model_id": "",
       "version_major": 2,
       "version_minor": 0
      },
      "text/plain": [
       "Evaluating 84:   0%|          | 0/142 [00:00<?, ?it/s]"
      ]
     },
     "metadata": {},
     "output_type": "display_data"
    },
    {
     "data": {
      "application/vnd.jupyter.widget-view+json": {
       "model_id": "",
       "version_major": 2,
       "version_minor": 0
      },
      "text/plain": [
       "Training 85:   0%|          | 0/566 [00:00<?, ?it/s]"
      ]
     },
     "metadata": {},
     "output_type": "display_data"
    },
    {
     "data": {
      "application/vnd.jupyter.widget-view+json": {
       "model_id": "",
       "version_major": 2,
       "version_minor": 0
      },
      "text/plain": [
       "Evaluating 85:   0%|          | 0/142 [00:00<?, ?it/s]"
      ]
     },
     "metadata": {},
     "output_type": "display_data"
    },
    {
     "data": {
      "application/vnd.jupyter.widget-view+json": {
       "model_id": "",
       "version_major": 2,
       "version_minor": 0
      },
      "text/plain": [
       "Training 86:   0%|          | 0/566 [00:00<?, ?it/s]"
      ]
     },
     "metadata": {},
     "output_type": "display_data"
    },
    {
     "data": {
      "application/vnd.jupyter.widget-view+json": {
       "model_id": "",
       "version_major": 2,
       "version_minor": 0
      },
      "text/plain": [
       "Evaluating 86:   0%|          | 0/142 [00:00<?, ?it/s]"
      ]
     },
     "metadata": {},
     "output_type": "display_data"
    },
    {
     "data": {
      "application/vnd.jupyter.widget-view+json": {
       "model_id": "",
       "version_major": 2,
       "version_minor": 0
      },
      "text/plain": [
       "Training 87:   0%|          | 0/566 [00:00<?, ?it/s]"
      ]
     },
     "metadata": {},
     "output_type": "display_data"
    },
    {
     "data": {
      "application/vnd.jupyter.widget-view+json": {
       "model_id": "",
       "version_major": 2,
       "version_minor": 0
      },
      "text/plain": [
       "Evaluating 87:   0%|          | 0/142 [00:00<?, ?it/s]"
      ]
     },
     "metadata": {},
     "output_type": "display_data"
    },
    {
     "data": {
      "application/vnd.jupyter.widget-view+json": {
       "model_id": "",
       "version_major": 2,
       "version_minor": 0
      },
      "text/plain": [
       "Training 88:   0%|          | 0/566 [00:00<?, ?it/s]"
      ]
     },
     "metadata": {},
     "output_type": "display_data"
    },
    {
     "data": {
      "application/vnd.jupyter.widget-view+json": {
       "model_id": "",
       "version_major": 2,
       "version_minor": 0
      },
      "text/plain": [
       "Evaluating 88:   0%|          | 0/142 [00:00<?, ?it/s]"
      ]
     },
     "metadata": {},
     "output_type": "display_data"
    },
    {
     "data": {
      "application/vnd.jupyter.widget-view+json": {
       "model_id": "",
       "version_major": 2,
       "version_minor": 0
      },
      "text/plain": [
       "Training 89:   0%|          | 0/566 [00:00<?, ?it/s]"
      ]
     },
     "metadata": {},
     "output_type": "display_data"
    },
    {
     "data": {
      "application/vnd.jupyter.widget-view+json": {
       "model_id": "",
       "version_major": 2,
       "version_minor": 0
      },
      "text/plain": [
       "Evaluating 89:   0%|          | 0/142 [00:00<?, ?it/s]"
      ]
     },
     "metadata": {},
     "output_type": "display_data"
    },
    {
     "data": {
      "application/vnd.jupyter.widget-view+json": {
       "model_id": "",
       "version_major": 2,
       "version_minor": 0
      },
      "text/plain": [
       "Training 90:   0%|          | 0/566 [00:00<?, ?it/s]"
      ]
     },
     "metadata": {},
     "output_type": "display_data"
    },
    {
     "data": {
      "application/vnd.jupyter.widget-view+json": {
       "model_id": "",
       "version_major": 2,
       "version_minor": 0
      },
      "text/plain": [
       "Evaluating 90:   0%|          | 0/142 [00:00<?, ?it/s]"
      ]
     },
     "metadata": {},
     "output_type": "display_data"
    },
    {
     "data": {
      "application/vnd.jupyter.widget-view+json": {
       "model_id": "",
       "version_major": 2,
       "version_minor": 0
      },
      "text/plain": [
       "Training 91:   0%|          | 0/566 [00:00<?, ?it/s]"
      ]
     },
     "metadata": {},
     "output_type": "display_data"
    },
    {
     "data": {
      "application/vnd.jupyter.widget-view+json": {
       "model_id": "",
       "version_major": 2,
       "version_minor": 0
      },
      "text/plain": [
       "Evaluating 91:   0%|          | 0/142 [00:00<?, ?it/s]"
      ]
     },
     "metadata": {},
     "output_type": "display_data"
    },
    {
     "data": {
      "application/vnd.jupyter.widget-view+json": {
       "model_id": "",
       "version_major": 2,
       "version_minor": 0
      },
      "text/plain": [
       "Training 92:   0%|          | 0/566 [00:00<?, ?it/s]"
      ]
     },
     "metadata": {},
     "output_type": "display_data"
    },
    {
     "data": {
      "application/vnd.jupyter.widget-view+json": {
       "model_id": "",
       "version_major": 2,
       "version_minor": 0
      },
      "text/plain": [
       "Evaluating 92:   0%|          | 0/142 [00:00<?, ?it/s]"
      ]
     },
     "metadata": {},
     "output_type": "display_data"
    },
    {
     "data": {
      "application/vnd.jupyter.widget-view+json": {
       "model_id": "",
       "version_major": 2,
       "version_minor": 0
      },
      "text/plain": [
       "Training 93:   0%|          | 0/566 [00:00<?, ?it/s]"
      ]
     },
     "metadata": {},
     "output_type": "display_data"
    },
    {
     "data": {
      "application/vnd.jupyter.widget-view+json": {
       "model_id": "",
       "version_major": 2,
       "version_minor": 0
      },
      "text/plain": [
       "Evaluating 93:   0%|          | 0/142 [00:00<?, ?it/s]"
      ]
     },
     "metadata": {},
     "output_type": "display_data"
    },
    {
     "data": {
      "application/vnd.jupyter.widget-view+json": {
       "model_id": "",
       "version_major": 2,
       "version_minor": 0
      },
      "text/plain": [
       "Training 94:   0%|          | 0/566 [00:00<?, ?it/s]"
      ]
     },
     "metadata": {},
     "output_type": "display_data"
    },
    {
     "data": {
      "application/vnd.jupyter.widget-view+json": {
       "model_id": "",
       "version_major": 2,
       "version_minor": 0
      },
      "text/plain": [
       "Evaluating 94:   0%|          | 0/142 [00:00<?, ?it/s]"
      ]
     },
     "metadata": {},
     "output_type": "display_data"
    },
    {
     "data": {
      "application/vnd.jupyter.widget-view+json": {
       "model_id": "",
       "version_major": 2,
       "version_minor": 0
      },
      "text/plain": [
       "Training 95:   0%|          | 0/566 [00:00<?, ?it/s]"
      ]
     },
     "metadata": {},
     "output_type": "display_data"
    },
    {
     "data": {
      "application/vnd.jupyter.widget-view+json": {
       "model_id": "",
       "version_major": 2,
       "version_minor": 0
      },
      "text/plain": [
       "Evaluating 95:   0%|          | 0/142 [00:00<?, ?it/s]"
      ]
     },
     "metadata": {},
     "output_type": "display_data"
    },
    {
     "data": {
      "application/vnd.jupyter.widget-view+json": {
       "model_id": "",
       "version_major": 2,
       "version_minor": 0
      },
      "text/plain": [
       "Training 96:   0%|          | 0/566 [00:00<?, ?it/s]"
      ]
     },
     "metadata": {},
     "output_type": "display_data"
    },
    {
     "data": {
      "application/vnd.jupyter.widget-view+json": {
       "model_id": "",
       "version_major": 2,
       "version_minor": 0
      },
      "text/plain": [
       "Evaluating 96:   0%|          | 0/142 [00:00<?, ?it/s]"
      ]
     },
     "metadata": {},
     "output_type": "display_data"
    },
    {
     "data": {
      "application/vnd.jupyter.widget-view+json": {
       "model_id": "",
       "version_major": 2,
       "version_minor": 0
      },
      "text/plain": [
       "Training 97:   0%|          | 0/566 [00:00<?, ?it/s]"
      ]
     },
     "metadata": {},
     "output_type": "display_data"
    },
    {
     "data": {
      "application/vnd.jupyter.widget-view+json": {
       "model_id": "",
       "version_major": 2,
       "version_minor": 0
      },
      "text/plain": [
       "Evaluating 97:   0%|          | 0/142 [00:00<?, ?it/s]"
      ]
     },
     "metadata": {},
     "output_type": "display_data"
    },
    {
     "data": {
      "application/vnd.jupyter.widget-view+json": {
       "model_id": "",
       "version_major": 2,
       "version_minor": 0
      },
      "text/plain": [
       "Training 98:   0%|          | 0/566 [00:00<?, ?it/s]"
      ]
     },
     "metadata": {},
     "output_type": "display_data"
    },
    {
     "data": {
      "application/vnd.jupyter.widget-view+json": {
       "model_id": "",
       "version_major": 2,
       "version_minor": 0
      },
      "text/plain": [
       "Evaluating 98:   0%|          | 0/142 [00:00<?, ?it/s]"
      ]
     },
     "metadata": {},
     "output_type": "display_data"
    },
    {
     "data": {
      "application/vnd.jupyter.widget-view+json": {
       "model_id": "",
       "version_major": 2,
       "version_minor": 0
      },
      "text/plain": [
       "Training 99:   0%|          | 0/566 [00:00<?, ?it/s]"
      ]
     },
     "metadata": {},
     "output_type": "display_data"
    },
    {
     "data": {
      "application/vnd.jupyter.widget-view+json": {
       "model_id": "",
       "version_major": 2,
       "version_minor": 0
      },
      "text/plain": [
       "Evaluating 99:   0%|          | 0/142 [00:00<?, ?it/s]"
      ]
     },
     "metadata": {},
     "output_type": "display_data"
    }
   ],
   "source": [
    "TOTAL_EPOCHS = 100\n",
    "\n",
    "# unfreeze additional weights for fine tuning\n",
    "for param in model.parameters():\n",
    "    param.requires_grad = False\n",
    "\n",
    "# only train certain parameters \n",
    "for param in model.bert.encoder.layer[-2].parameters():\n",
    "    param.requires_grad = True\n",
    "    \n",
    "for param in model.bert.encoder.layer[-1].parameters():\n",
    "    param.requires_grad = True\n",
    "\n",
    "for param in model.bert.pooler.parameters():\n",
    "    param.requires_grad = True\n",
    "\n",
    "for param in model.classifier.parameters():\n",
    "    param.requires_grad = True\n",
    "\n",
    "#named_parameters = list(model.classifier.named_parameters()) + list(model.bert.pooler.named_parameters()) + list(model.bert.encoder.layer[-1].output.named_parameters())\n",
    "\n",
    "train_params = list(model.classifier.parameters()) + list(model.bert.pooler.parameters()) + list(model.bert.encoder.layer[-1].parameters()) + list(model.bert.encoder.layer[-2].parameters())\n",
    "\n",
    "# we can now tell the optimizer to optimize these parameters with given weight decay\n",
    "optimizer = Adam(train_params)\n",
    "scheduler = lr_scheduler.LinearLR(optimizer, \n",
    "                                  start_factor=0.01, end_factor=0.001, \n",
    "                                  total_iters=TOTAL_EPOCHS)\n",
    "\n",
    "\n",
    "with trange(TOTAL_EPOCHS, desc=\"Epoch\") as pbar:\n",
    "    for epoch in pbar:\n",
    "        model.train()\n",
    "        total_loss = 0.0\n",
    "        for batch in tqdm(train_dataloader, desc=f\"Training {epoch}\", total=int(train_size/BATCH_SIZE)+1, leave=False):\n",
    "            batch = tuple(s.to(device) for s in batch)\n",
    "            input_ids, input_mask, input_types, labels = batch    \n",
    "            output = model(input_ids, input_types, input_mask, labels=labels)\n",
    "            output.loss.backward() # register loss and perform gradient calculations\n",
    "            optimizer.step() # use gradients in optimizer\n",
    "            optimizer.zero_grad() # clear out gradients\n",
    "            total_loss += output.loss.item() * BATCH_SIZE\n",
    "\n",
    "        total_loss = total_loss / train_size\n",
    "        history['train_loss'].append(total_loss)\n",
    "                \n",
    "        # reduce the LR between epochs\n",
    "        scheduler.step()\n",
    "        \n",
    "        # at end of epoch, report the evaluation\n",
    "        model.eval()  # Set model to evaluation mode\n",
    "        total_loss = 0.0\n",
    "    \n",
    "        with torch.no_grad():\n",
    "            for batch in tqdm(eval_dataloader, desc=f\"Evaluating {epoch}\", total=int(eval_size/BATCH_SIZE)+1, leave=False):\n",
    "                batch = tuple(s.to(device) for s in batch) # send to GPU\n",
    "                input_ids, input_mask, input_types, labels = batch\n",
    "                output = model(input_ids, input_types, input_mask, labels=labels)\n",
    "                total_loss += output.loss.item() * BATCH_SIZE\n",
    "            total_loss = total_loss / eval_size\n",
    "            history['val_loss'].append(total_loss)\n",
    "        pbar.set_postfix(loss=f\"{total_loss:.2f}\")\n",
    "\n"
   ]
  },
  {
   "cell_type": "code",
   "execution_count": null,
   "id": "89bb1993-15b2-4cd2-a4f7-5b2dea6929b8",
   "metadata": {},
   "outputs": [],
   "source": []
  },
  {
   "cell_type": "code",
   "execution_count": 21,
   "id": "0768e086-7d3c-4a4b-8c87-eaec9bb333d6",
   "metadata": {},
   "outputs": [
    {
     "data": {
      "application/vnd.jupyter.widget-view+json": {
       "model_id": "4a6d3e51754448bdb6699761951377a8",
       "version_major": 2,
       "version_minor": 0
      },
      "text/plain": [
       "Evaluating:   0%|          | 0/142 [00:00<?, ?it/s]"
      ]
     },
     "metadata": {},
     "output_type": "display_data"
    }
   ],
   "source": [
    "all_preds = []\n",
    "all_labels = []\n",
    "\n",
    "model.eval() # set model to evalaution mode (no dropout, etc.)\n",
    "\n",
    "# run the evaluation without tracking gradient operations\n",
    "with torch.no_grad():\n",
    "    for batch in tqdm(eval_dataloader,desc=\"Evaluating\", total=int(eval_size/BATCH_SIZE)+1):\n",
    "        \n",
    "        batch = tuple(s.to(device) for s in batch) # send to GPU\n",
    "        input_ids, input_mask, input_types, labels = batch\n",
    "        \n",
    "        output = model(input_ids, input_types, input_mask, labels=None)\n",
    "\n",
    "        # save these model outputs as numpy arrays.\n",
    "        # 1. We need to detach the tensors from the computation graph\n",
    "        # 2. then copy the tensor over to the cpu (from the GPU)\n",
    "        # 3. then convert to numpy\n",
    "        # 4. save this numpy vector in a list of other vectors\n",
    "        # we will stack the vectors from the list into one big numpy vector later on\n",
    "        all_preds.append(  output.logits.detach().cpu().numpy() )\n",
    "        all_labels.append( labels.cpu().numpy() )"
   ]
  },
  {
   "cell_type": "code",
   "execution_count": 22,
   "id": "50a617a8-23b9-4e07-9816-d63e54268c76",
   "metadata": {},
   "outputs": [
    {
     "name": "stdout",
     "output_type": "stream",
     "text": [
      "0.5952275740167918\n"
     ]
    },
    {
     "data": {
      "image/png": "[encoded data removed]",
      "text/plain": [
       "<Figure size 640x480 with 1 Axes>"
      ]
     },
     "metadata": {},
     "output_type": "display_data"
    }
   ],
   "source": [
    "# combine the individual batched outputs and argmax for the predictions\n",
    "\n",
    "# stack lable array into vector of class index, [0, 5, 19, ... , 12, 13]\n",
    "labels_array = np.hstack(all_labels)\n",
    "# stack each prediction into matrix where row=[net outpu array] and col=[each class probaability]\n",
    "# take argmax across each netowrk output (row) to collapse these into a vector of int classes [1, 5, 19, ... , 11, 13]\n",
    "preds_array = np.argmax(np.vstack(all_preds), axis=1)\n",
    "\n",
    "# now that the preds and labels are in a similar format, we can compare with sklearn metrics\n",
    "print(accuracy_score(labels_array, preds_array))\n",
    "\n",
    "plt.plot(history['train_loss'], label='train')\n",
    "plt.plot(history['val_loss'], label='val')\n",
    "plt.legend()\n",
    "plt.show()"
   ]
  },
  {
   "cell_type": "markdown",
   "id": "dec78df8-0166-4e0a-983a-37f073e29178",
   "metadata": {},
   "source": [
    "_______\n",
    "**Instructor Notes:**\n",
    "\n",
    "Housekeeping in experimental branch:\n",
    "- Using hooks and loading the hidden layers as outputs caused crashing of the kernel. Potentially a memory leak of calculating the various gradients. Need to try with, 'no_grad'.\n",
    "- At a sequence of 128, using optimizer on classifier first, then pooler+classifier, achieved 52% train acc (0.5211242708149195). No eval set was yet created. \n",
    "- At a sequence of 256, with optimizer pooler+classifier, achieved 0.424 acc on eval. Debugged a number of trials to monitor the outputs.\n",
    "  - after additional learning rate reduction, this increased to 51.25% eval\n",
    "_______"
   ]
  },
  {
   "cell_type": "markdown",
   "id": "d9eedce7-be82-47d0-8936-92dc63597f83",
   "metadata": {},
   "source": [
    "# Using hooks to save intermediate activations\n",
    "\n",
    "**Hooks currently cause out of memory errors. Need to debug if this is from the computation graph not being used properly.**\n",
    "\n",
    "While the above example was able to successfuly use transfer learning, there were some parts that are clearly inefficient. For example, most of the BERT model remains untrained. Only the pooler and classifier layers are trained. Given this, why should we be running the encoder for BERT over an over in each epoch? \n",
    "\n",
    "It might be more efficient to save the intermediate activations from the model with a hook function. A hook is an operation that can be tied to any layer in Torch such that it saves off intermediate activations into a global variable. The 'hook' must be a function handle, so we wrap it in another function. The input to the wrapper function is a key for saving the activations into a global variable. For example, the following code can be used to register a hook. This is a manipulated code snippet from the following example:\n",
    "- https://github.com/RabiaGondur/CNNfeatureExtraction/blob/main/CNN_Feature_Extractor.ipynb\n",
    "\n",
    "```python\n",
    "# get access to one part of our model using a forward hook\n",
    "# this will continually save activations into a global dictionary \n",
    "embeds = {}\n",
    "def get_activation(name):\n",
    "    def hook(model, input, output):\n",
    "        embeds[name] = output\n",
    "    return hook\n",
    "    \n",
    "model.bert.pooler.register_forward_hook(get_activation('bottleneck_features'))\n",
    "\n",
    "# take an example from here and send into our model\n",
    "output = model(**encoded_input)\n",
    "\n",
    "# then in the encoding loop, put sample through Bert (and save the hook)\n",
    "output = model(**encoded_example)\n",
    "encoded_example['bottleneck_features'] = embeds['bottleneck_features']\n",
    "```"
   ]
  },
  {
   "cell_type": "code",
   "execution_count": null,
   "id": "511d73db-6ada-41ce-a7ec-a48135ae24ca",
   "metadata": {},
   "outputs": [],
   "source": []
  },
  {
   "cell_type": "code",
   "execution_count": null,
   "id": "af6f99c3-bd56-446b-a5f7-95f5869ab486",
   "metadata": {},
   "outputs": [],
   "source": []
  },
  {
   "cell_type": "code",
   "execution_count": null,
   "id": "dd1573d9-a93b-4465-b6c4-86c2268943a2",
   "metadata": {},
   "outputs": [],
   "source": []
  }
 ],
 "metadata": {
  "kernelspec": {
   "display_name": "Python 3 (ipykernel)",
   "language": "python",
   "name": "python3"
  },
  "language_info": {
   "codemirror_mode": {
    "name": "ipython",
    "version": 3
   },
   "file_extension": ".py",
   "mimetype": "text/x-python",
   "name": "python",
   "nbconvert_exporter": "python",
   "pygments_lexer": "ipython3",
   "version": "3.11.9"
  }
 },
 "nbformat": 4,
 "nbformat_minor": 5
}
